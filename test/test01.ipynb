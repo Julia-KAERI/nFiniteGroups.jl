{
 "cells": [
  {
   "cell_type": "code",
   "execution_count": 1,
   "id": "893c2533",
   "metadata": {},
   "outputs": [
    {
     "name": "stderr",
     "output_type": "stream",
     "text": [
      "\u001b[32m\u001b[1m  Activating\u001b[22m\u001b[39m project at `~/development/Projects/nFiniteGroups.jl`\n"
     ]
    }
   ],
   "source": [
    "using Pkg\n",
    "Pkg.activate(\"/Users/jiyong/development/Projects/nFiniteGroups.jl\")"
   ]
  },
  {
   "cell_type": "code",
   "execution_count": 2,
   "id": "4a857835",
   "metadata": {},
   "outputs": [],
   "source": [
    "using nFiniteGroups"
   ]
  },
  {
   "cell_type": "code",
   "execution_count": 3,
   "id": "dbac07b0",
   "metadata": {},
   "outputs": [
    {
     "data": {
      "text/plain": [
       "Td : elements"
      ]
     },
     "metadata": {},
     "output_type": "display_data"
    }
   ],
   "source": [
    "Td = TetrahedralDiagonalGroup()"
   ]
  },
  {
   "cell_type": "code",
   "execution_count": 4,
   "id": "773a919c",
   "metadata": {},
   "outputs": [
    {
     "data": {
      "text/plain": [
       "C2x [TetrahedralElement] : [0 1 0 0; 1 0 0 0; 0 0 0 1; 0 0 1 0]"
      ]
     },
     "metadata": {},
     "output_type": "display_data"
    }
   ],
   "source": [
    "Td(:Sx3)*Td(:C2x)*inv(Td(:Sx3))"
   ]
  },
  {
   "cell_type": "code",
   "execution_count": 5,
   "id": "23f94900",
   "metadata": {},
   "outputs": [
    {
     "data": {
      "text/plain": [
       "5-element Vector{Any}:\n",
       " Set([:C2x, :C2z, :C2y])\n",
       " Set([:σab, :σad, :σac, :σbd, :σbc, :σcd])\n",
       " Set([:C3d2, :C3b2, :C3c2, :C3d, :C3a2, :C3c, :C3a, :C3b])\n",
       " Set([:Sx3, :Sy1, :Sx1, :Sz3, :Sy3, :Sz1])\n",
       " Set([:E])"
      ]
     },
     "metadata": {},
     "output_type": "display_data"
    }
   ],
   "source": [
    "classes(Td)"
   ]
  },
  {
   "cell_type": "code",
   "execution_count": null,
   "id": "c27ca5a4",
   "metadata": {},
   "outputs": [],
   "source": [
    "inv(T(:C2x))"
   ]
  },
  {
   "cell_type": "code",
   "execution_count": null,
   "id": "a141de99",
   "metadata": {},
   "outputs": [],
   "source": [
    "inv(Td(:σbd))"
   ]
  },
  {
   "cell_type": "code",
   "execution_count": null,
   "id": "8c5c8ddf",
   "metadata": {},
   "outputs": [],
   "source": [
    "methods(inv)"
   ]
  },
  {
   "cell_type": "code",
   "execution_count": 6,
   "id": "a06eceec",
   "metadata": {},
   "outputs": [
    {
     "data": {
      "text/plain": [
       "Dict{Symbol, Set{Symbol}}"
      ]
     },
     "metadata": {},
     "output_type": "display_data"
    }
   ],
   "source": [
    "const TetrahedralGroupClass = Dict{Symbol, Set{Symbol}} "
   ]
  },
  {
   "cell_type": "code",
   "execution_count": 7,
   "id": "1fc2b0ce",
   "metadata": {},
   "outputs": [
    {
     "ename": "Base.Meta.ParseError",
     "evalue": "ParseError:\n# Error @ /Users/jiyong/development/Projects/nFiniteGroups.jl/test/jl_notebook_cell_df34fa98e69747e1a8f8a730347b8e2f_X12sZmlsZQ==.jl:1:25\nTetrahedralGroupClass[:2C2] = Set{Symbol}(:C2x, :C2y, :C2z)\n#                       └┘ ── Expected `]`",
     "output_type": "error",
     "traceback": [
      "ParseError:\n",
      "# Error @ /Users/jiyong/development/Projects/nFiniteGroups.jl/test/jl_notebook_cell_df34fa98e69747e1a8f8a730347b8e2f_X12sZmlsZQ==.jl:1:25\n",
      "TetrahedralGroupClass[:2C2] = Set{Symbol}(:C2x, :C2y, :C2z)\n",
      "#                       └┘ ── Expected `]`\n",
      "\n",
      "Stacktrace:\n",
      " [1] top-level scope\n",
      "   @ ~/development/Projects/nFiniteGroups.jl/test/jl_notebook_cell_df34fa98e69747e1a8f8a730347b8e2f_X12sZmlsZQ==.jl:1"
     ]
    }
   ],
   "source": [
    "TetrahedralGroupClass[:2C2] = Set{Symbol}(:C2x, :C2y, :C2z)"
   ]
  },
  {
   "cell_type": "code",
   "execution_count": 11,
   "id": "ec5b7840",
   "metadata": {},
   "outputs": [
    {
     "data": {
      "text/plain": [
       ":C2"
      ]
     },
     "metadata": {},
     "output_type": "display_data"
    }
   ],
   "source": [
    "Symbol(\"C2\")"
   ]
  },
  {
   "cell_type": "code",
   "execution_count": null,
   "id": "b5da837d",
   "metadata": {},
   "outputs": [],
   "source": []
  }
 ],
 "metadata": {
  "kernelspec": {
   "display_name": "Julia 1.11.5",
   "language": "julia",
   "name": "julia-1.11"
  },
  "language_info": {
   "file_extension": ".jl",
   "mimetype": "application/julia",
   "name": "julia",
   "version": "1.11.5"
  }
 },
 "nbformat": 4,
 "nbformat_minor": 5
}

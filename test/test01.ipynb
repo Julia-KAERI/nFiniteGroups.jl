{
 "cells": [
  {
   "cell_type": "code",
   "execution_count": 1,
   "id": "893c2533",
   "metadata": {},
   "outputs": [
    {
     "name": "stderr",
     "output_type": "stream",
     "text": [
      "\u001b[32m\u001b[1m  Activating\u001b[22m\u001b[39m project at `~/development/Projects/nFiniteGroups.jl`\n"
     ]
    }
   ],
   "source": [
    "using Pkg\n",
    "Pkg.activate(\"/Users/jiyong/development/Projects/nFiniteGroups.jl\")"
   ]
  },
  {
   "cell_type": "code",
   "execution_count": 2,
   "id": "4a857835",
   "metadata": {},
   "outputs": [],
   "source": [
    "using nFiniteGroups"
   ]
  },
  {
   "cell_type": "code",
   "execution_count": 3,
   "id": "dbac07b0",
   "metadata": {},
   "outputs": [
    {
     "data": {
      "text/plain": [
       "TetrahedralDiagonalGroup(Dict{Symbol, TetrahedralElement}(:Sz1 => Sz1 [TetrahedralElement] : [0 1 0 0; 0 0 1 0; 0 0 0 1; 1 0 0 0], :σad => σad [TetrahedralElement] : [1 0 0 0; 0 0 1 0; 0 1 0 0; 0 0 0 1], :σac => σac [TetrahedralElement] : [1 0 0 0; 0 0 0 1; 0 0 1 0; 0 1 0 0], :C3d => C3d [TetrahedralElement] : [0 0 1 0; 1 0 0 0; 0 1 0 0; 0 0 0 1], :Sz3 => Sz3 [TetrahedralElement] : [0 0 0 1; 1 0 0 0; 0 1 0 0; 0 0 1 0], :C2x => C2x [TetrahedralElement] : [0 1 0 0; 1 0 0 0; 0 0 0 1; 0 0 1 0], :Sy1 => Sy1 [TetrahedralElement] : [0 1 0 0; 0 0 0 1; 1 0 0 0; 0 0 1 0], :C3c2 => C3c2 [TetrahedralElement] : [0 0 0 1; 1 0 0 0; 0 0 1 0; 0 1 0 0], :C3a => C3a [TetrahedralElement] : [1 0 0 0; 0 0 1 0; 0 0 0 1; 0 1 0 0], :E => E [TetrahedralElement] : [1 0 0 0; 0 1 0 0; 0 0 1 0; 0 0 0 1]…))"
      ]
     },
     "metadata": {},
     "output_type": "display_data"
    }
   ],
   "source": [
    "Td = TetrahedralDiagonalGroup()"
   ]
  },
  {
   "cell_type": "code",
   "execution_count": 4,
   "id": "773a919c",
   "metadata": {},
   "outputs": [
    {
     "data": {
      "text/plain": [
       "C2x [TetrahedralElement] : [0 1 0 0; 1 0 0 0; 0 0 0 1; 0 0 1 0]"
      ]
     },
     "metadata": {},
     "output_type": "display_data"
    }
   ],
   "source": [
    "Td(:Sx3)*Td(:C2x)*inv(Td(:Sx3))"
   ]
  },
  {
   "cell_type": "code",
   "execution_count": 5,
   "id": "23f94900",
   "metadata": {},
   "outputs": [
    {
     "data": {
      "text/plain": [
       "5-element Vector{Any}:\n",
       " Set([:C2x, :C2z, :C2y])\n",
       " Set([:σab, :σad, :σac, :σbd, :σbc, :σcd])\n",
       " Set([:C3d2, :C3b2, :C3c2, :C3d, :C3a2, :C3c, :C3a, :C3b])\n",
       " Set([:Sx3, :Sy1, :Sx1, :Sz3, :Sy3, :Sz1])\n",
       " Set([:E])"
      ]
     },
     "metadata": {},
     "output_type": "display_data"
    }
   ],
   "source": [
    "classes(Td)"
   ]
  },
  {
   "cell_type": "code",
   "execution_count": null,
   "id": "c27ca5a4",
   "metadata": {},
   "outputs": [],
   "source": [
    "inv(T(:C2x))"
   ]
  },
  {
   "cell_type": "code",
   "execution_count": null,
   "id": "a141de99",
   "metadata": {},
   "outputs": [],
   "source": [
    "inv(Td(:σbd))"
   ]
  },
  {
   "cell_type": "code",
   "execution_count": null,
   "id": "8c5c8ddf",
   "metadata": {},
   "outputs": [],
   "source": [
    "methods(inv)"
   ]
  },
  {
   "cell_type": "code",
   "execution_count": null,
   "id": "a06eceec",
   "metadata": {},
   "outputs": [],
   "source": [
    "Base.inv"
   ]
  }
 ],
 "metadata": {
  "kernelspec": {
   "display_name": "Julia 1.11.5",
   "language": "julia",
   "name": "julia-1.11"
  },
  "language_info": {
   "file_extension": ".jl",
   "mimetype": "application/julia",
   "name": "julia",
   "version": "1.11.5"
  }
 },
 "nbformat": 4,
 "nbformat_minor": 5
}

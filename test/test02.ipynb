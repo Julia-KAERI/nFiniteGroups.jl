{
 "cells": [
  {
   "cell_type": "code",
   "execution_count": 1,
   "id": "893c2533",
   "metadata": {},
   "outputs": [
    {
     "name": "stderr",
     "output_type": "stream",
     "text": [
      "\u001b[32m\u001b[1m  Activating\u001b[22m\u001b[39m project at `~/development/Projects/nFiniteGroups`\n"
     ]
    }
   ],
   "source": [
    "using Pkg\n",
    "#Pkg.activate(\"/Users/jiyong/development/Projects/nFiniteGroups.jl\")\n",
    "Pkg.activate(\"/Users/jiyongso/development/Projects/nFiniteGroups\")\n",
    "using LinearAlgebra\n",
    "using nFiniteGroups"
   ]
  },
  {
   "cell_type": "code",
   "execution_count": 2,
   "id": "4a857835",
   "metadata": {},
   "outputs": [
    {
     "data": {
      "text/plain": [
       "SGroup{6}(Dict{Symbol, SGroupElement{6}}(:C32 => SGroupElement{6}(:C32, [0 1 … 0 0; 0 0 … 0 0; … ; 0 0 … 0 1; 0 0 … 0 0], :C31, SGroup{6}), :S63 => SGroupElement{6}(:S63, [0 0 … 0 1; 0 0 … 0 0; … ; 0 0 … 0 0; 1 0 … 0 0], :S63, SGroup{6}), :C31 => SGroupElement{6}(:C31, [0 0 … 0 0; 1 0 … 0 0; … ; 0 0 … 0 0; 0 0 … 1 0], :C32, SGroup{6}), :E => SGroupElement{6}(:E, [1 0 … 0 0; 0 1 … 0 0; … ; 0 0 … 1 0; 0 0 … 0 1], :E, SGroup{6}), :S61 => SGroupElement{6}(:S61, [0 0 … 0 0; 0 0 … 1 0; … ; 1 0 … 0 0; 0 1 … 0 0], :S65, SGroup{6}), :S65 => SGroupElement{6}(:S65, [0 0 … 1 0; 0 0 … 0 1; … ; 0 1 … 0 0; 0 0 … 0 0], :S61, SGroup{6})), \"S6\", 6)"
      ]
     },
     "metadata": {},
     "output_type": "display_data"
    }
   ],
   "source": [
    "S6=SGroup(6)"
   ]
  },
  {
   "cell_type": "code",
   "execution_count": 3,
   "id": "dbac07b0",
   "metadata": {},
   "outputs": [
    {
     "data": {
      "text/plain": [
       "6-element Vector{Tuple{Symbol, Float64}}:\n",
       " (:C32, 1.0)\n",
       " (:S63, -1.0)\n",
       " (:C31, 1.0)\n",
       " (:E, 1.0)\n",
       " (:S61, -1.0)\n",
       " (:S65, -1.0)"
      ]
     },
     "metadata": {},
     "output_type": "display_data"
    }
   ],
   "source": [
    "[(s, det(S6(s).rep)) for (s, t) in S6.elements] \n"
   ]
  },
  {
   "cell_type": "code",
   "execution_count": 4,
   "id": "311c7f6b",
   "metadata": {},
   "outputs": [
    {
     "data": {
      "text/plain": [
       "6-element Vector{Any}:\n",
       " Set([:C32])\n",
       " Set([:S63])\n",
       " Set([:C31])\n",
       " Set([:E])\n",
       " Set([:S61])\n",
       " Set([:S65])"
      ]
     },
     "metadata": {},
     "output_type": "display_data"
    }
   ],
   "source": [
    "classes(S6)"
   ]
  },
  {
   "cell_type": "code",
   "execution_count": null,
   "id": "c27ca5a4",
   "metadata": {},
   "outputs": [],
   "source": [
    "Cv2(:E)*Cv2(:σ1)"
   ]
  },
  {
   "cell_type": "code",
   "execution_count": null,
   "id": "a141de99",
   "metadata": {},
   "outputs": [],
   "source": [
    "Cv2(:E).group().elements "
   ]
  },
  {
   "cell_type": "code",
   "execution_count": null,
   "id": "8c5c8ddf",
   "metadata": {},
   "outputs": [],
   "source": [
    "C4(:C4_2)*C4(:C4_1)*inv(C4(:C4_2))"
   ]
  },
  {
   "cell_type": "code",
   "execution_count": null,
   "id": "a06eceec",
   "metadata": {},
   "outputs": [],
   "source": [
    "C4(:C4_2).rep *C4(:C4_1).rep "
   ]
  },
  {
   "cell_type": "code",
   "execution_count": null,
   "id": "1fc2b0ce",
   "metadata": {},
   "outputs": [],
   "source": [
    "C4(:C4_1).rep "
   ]
  },
  {
   "cell_type": "code",
   "execution_count": null,
   "id": "ec5b7840",
   "metadata": {},
   "outputs": [],
   "source": [
    "x=[:E, :C2x, :C2y, :C2z, :C3a, :C3a2, :C3b, :C3b2, :C3c, :C3c2, :C3d, :C3d2]\n",
    "t=[String(s) for s in x]\n",
    "# join(t, \", \")\n"
   ]
  },
  {
   "cell_type": "code",
   "execution_count": null,
   "id": "b5da837d",
   "metadata": {},
   "outputs": [],
   "source": [
    "\n",
    "Symbol(\"C4_1\")\n"
   ]
  },
  {
   "cell_type": "code",
   "execution_count": null,
   "id": "d56e4bfd",
   "metadata": {},
   "outputs": [],
   "source": [
    "divrem(7, 3)[2]"
   ]
  },
  {
   "cell_type": "code",
   "execution_count": null,
   "id": "0cf65e80",
   "metadata": {},
   "outputs": [],
   "source": [
    "q=3\n",
    "Symbol(\"as\")"
   ]
  },
  {
   "cell_type": "code",
   "execution_count": null,
   "id": "deb82df4",
   "metadata": {},
   "outputs": [],
   "source": [
    "Symbol(\"($q)\")"
   ]
  },
  {
   "cell_type": "code",
   "execution_count": null,
   "id": "1ac28933",
   "metadata": {},
   "outputs": [],
   "source": []
  },
  {
   "cell_type": "code",
   "execution_count": null,
   "id": "d91bcd76",
   "metadata": {},
   "outputs": [],
   "source": [
    "s=\"abcdefgh\"\n",
    "find(\"a\", s)"
   ]
  },
  {
   "cell_type": "code",
   "execution_count": null,
   "id": "8498e2c2",
   "metadata": {},
   "outputs": [],
   "source": [
    "findfirst('a', s)"
   ]
  },
  {
   "cell_type": "code",
   "execution_count": null,
   "id": "bc6ae655",
   "metadata": {},
   "outputs": [],
   "source": []
  }
 ],
 "metadata": {
  "kernelspec": {
   "display_name": "Julia 1.11.5",
   "language": "julia",
   "name": "julia-1.11"
  },
  "language_info": {
   "file_extension": ".jl",
   "mimetype": "application/julia",
   "name": "julia",
   "version": "1.11.5"
  }
 },
 "nbformat": 4,
 "nbformat_minor": 5
}

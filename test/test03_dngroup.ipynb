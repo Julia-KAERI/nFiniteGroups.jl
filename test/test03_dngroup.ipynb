{
 "cells": [
  {
   "cell_type": "code",
   "execution_count": 4,
   "id": "893c2533",
   "metadata": {},
   "outputs": [
    {
     "name": "stderr",
     "output_type": "stream",
     "text": [
      "\u001b[32m\u001b[1m  Activating\u001b[22m\u001b[39m project at `~/development/Projects/nFiniteGroups`\n"
     ]
    }
   ],
   "source": [
    "using Pkg\n",
    "#Pkg.activate(\"/Users/jiyong/development/Projects/nFiniteGroups.jl\")\n",
    "Pkg.activate(\"/Users/jiyongso/development/Projects/nFiniteGroups\")\n",
    "using LinearAlgebra\n",
    "using nFiniteGroups\n",
    "using OrderedCollections\n",
    "using Printf\n",
    "using BenchmarkTools"
   ]
  },
  {
   "cell_type": "code",
   "execution_count": 5,
   "id": "4a857835",
   "metadata": {},
   "outputs": [
    {
     "data": {
      "text/plain": [
       "C6 [6 elements] : [:E, :C61, :C62, :C63, :C64, :C65]\n"
      ]
     },
     "metadata": {},
     "output_type": "display_data"
    }
   ],
   "source": [
    "C6 = CGroup(6)"
   ]
  },
  {
   "cell_type": "code",
   "execution_count": 34,
   "id": "dbac07b0",
   "metadata": {},
   "outputs": [
    {
     "data": {
      "text/plain": [
       "CGroupElement{6}(:E, :E, :C6)"
      ]
     },
     "metadata": {},
     "output_type": "display_data"
    }
   ],
   "source": [
    "C6(:E)"
   ]
  },
  {
   "cell_type": "code",
   "execution_count": 35,
   "id": "b5e215af",
   "metadata": {},
   "outputs": [
    {
     "ename": "ErrorException",
     "evalue": "type CGroupElement has no field group",
     "output_type": "error",
     "traceback": [
      "type CGroupElement has no field group\n",
      "\n",
      "Stacktrace:\n",
      " [1] getproperty\n",
      "   @ ./Base.jl:49 [inlined]\n",
      " [2] inv(t::CGroupElement{6})\n",
      "   @ nFiniteGroups ~/development/Projects/nFiniteGroups/src/base/utils.jl:56\n",
      " [3] top-level scope\n",
      "   @ ~/development/Projects/nFiniteGroups/test/jl_notebook_cell_df34fa98e69747e1a8f8a730347b8e2f_Y103sZmlsZQ==.jl:1"
     ]
    }
   ],
   "source": [
    "inv(C6(:E))"
   ]
  },
  {
   "cell_type": "code",
   "execution_count": 7,
   "id": "4ea79f7d",
   "metadata": {},
   "outputs": [
    {
     "ename": "UndefVarError",
     "evalue": "UndefVarError: `Td` not defined in `Main`\nSuggestion: check for spelling errors or missing imports.",
     "output_type": "error",
     "traceback": [
      "UndefVarError: `Td` not defined in `Main`\n",
      "Suggestion: check for spelling errors or missing imports.\n",
      "\n",
      "Stacktrace:\n",
      "  [1] var\"##core#235\"()\n",
      "    @ Main ~/.julia/packages/BenchmarkTools/1i1mY/src/execution.jl:598\n",
      "  [2] var\"##sample#236\"(::Tuple{}, __params::BenchmarkTools.Parameters)\n",
      "    @ Main ~/.julia/packages/BenchmarkTools/1i1mY/src/execution.jl:607\n",
      "  [3] _lineartrial(b::BenchmarkTools.Benchmark, p::BenchmarkTools.Parameters; maxevals::Int64, kwargs::@Kwargs{})\n",
      "    @ BenchmarkTools ~/.julia/packages/BenchmarkTools/1i1mY/src/execution.jl:186\n",
      "  [4] _lineartrial(b::BenchmarkTools.Benchmark, p::BenchmarkTools.Parameters)\n",
      "    @ BenchmarkTools ~/.julia/packages/BenchmarkTools/1i1mY/src/execution.jl:181\n",
      "  [5] #invokelatest#2\n",
      "    @ ./essentials.jl:1055 [inlined]\n",
      "  [6] invokelatest\n",
      "    @ ./essentials.jl:1052 [inlined]\n",
      "  [7] #lineartrial#46\n",
      "    @ ~/.julia/packages/BenchmarkTools/1i1mY/src/execution.jl:51 [inlined]\n",
      "  [8] lineartrial\n",
      "    @ ~/.julia/packages/BenchmarkTools/1i1mY/src/execution.jl:50 [inlined]\n",
      "  [9] tune!(b::BenchmarkTools.Benchmark, p::BenchmarkTools.Parameters; progressid::Nothing, nleaves::Float64, ndone::Float64, verbose::Bool, pad::String, kwargs::@Kwargs{})\n",
      "    @ BenchmarkTools ~/.julia/packages/BenchmarkTools/1i1mY/src/execution.jl:299\n",
      " [10] tune!\n",
      "    @ ~/.julia/packages/BenchmarkTools/1i1mY/src/execution.jl:288 [inlined]\n",
      " [11] tune!(b::BenchmarkTools.Benchmark)\n",
      "    @ BenchmarkTools ~/.julia/packages/BenchmarkTools/1i1mY/src/execution.jl:288\n",
      " [12] top-level scope\n",
      "    @ ~/.julia/packages/BenchmarkTools/1i1mY/src/execution.jl:728"
     ]
    }
   ],
   "source": [
    "@btime gmul(Td(:C3a), Td(:C2x))"
   ]
  },
  {
   "cell_type": "code",
   "execution_count": 8,
   "id": "f9904422",
   "metadata": {},
   "outputs": [
    {
     "data": {
      "text/plain": [
       "dict2str (generic function with 1 method)"
      ]
     },
     "metadata": {},
     "output_type": "display_data"
    }
   ],
   "source": [
    "dict2str(D::LittleDict) = join(\"\\n\", [\"$(k) => $(s)\" for (k, s) in D])"
   ]
  },
  {
   "cell_type": "code",
   "execution_count": 9,
   "id": "7edd3372",
   "metadata": {},
   "outputs": [
    {
     "ename": "UndefVarError",
     "evalue": "UndefVarError: `Td` not defined in `Main`\nSuggestion: check for spelling errors or missing imports.",
     "output_type": "error",
     "traceback": [
      "UndefVarError: `Td` not defined in `Main`\n",
      "Suggestion: check for spelling errors or missing imports.\n",
      "\n",
      "Stacktrace:\n",
      " [1] top-level scope\n",
      "   @ ~/development/Projects/nFiniteGroups/test/jl_notebook_cell_df34fa98e69747e1a8f8a730347b8e2f_X41sZmlsZQ==.jl:1"
     ]
    }
   ],
   "source": [
    "r=join([\"$(k) => :$(s)\" for (k, s) in Td.table], \", \\n\")"
   ]
  },
  {
   "cell_type": "code",
   "execution_count": 10,
   "id": "410a9a4c",
   "metadata": {},
   "outputs": [
    {
     "ename": "UndefVarError",
     "evalue": "UndefVarError: `r` not defined in `Main`\nSuggestion: check for spelling errors or missing imports.",
     "output_type": "error",
     "traceback": [
      "UndefVarError: `r` not defined in `Main`\n",
      "Suggestion: check for spelling errors or missing imports.\n",
      "\n",
      "Stacktrace:\n",
      " [1] top-level scope\n",
      "   @ ~/development/Projects/nFiniteGroups/test/jl_notebook_cell_df34fa98e69747e1a8f8a730347b8e2f_Y100sZmlsZQ==.jl:1"
     ]
    }
   ],
   "source": [
    "println(r)"
   ]
  },
  {
   "cell_type": "code",
   "execution_count": 11,
   "id": "c27ca5a4",
   "metadata": {},
   "outputs": [
    {
     "data": {
      "text/plain": [
       "multiplication_table (generic function with 1 method)"
      ]
     },
     "metadata": {},
     "output_type": "display_data"
    }
   ],
   "source": [
    "function multiplication_table(D::LittleDict)\n",
    "    function _find(D, rep) \n",
    "        for (key, value) in D\n",
    "            if value.rep == rep\n",
    "                return key\n",
    "            end\n",
    "        end\n",
    "        return nothing\n",
    "    end\n",
    "    n = length(D)\n",
    "    table = LittleDict{Tuple{Symbol, Symbol}, Symbol}()\n",
    "    kk = keys(D)\n",
    "    for k1 in kk\n",
    "        for k2 in kk\n",
    "            k = _find(D, D[k2].rep * D[k1].rep)\n",
    "            table[(k2, k1)] = k\n",
    "        end\n",
    "    end\n",
    "    return table\n",
    "end\n"
   ]
  },
  {
   "cell_type": "code",
   "execution_count": 12,
   "id": "a141de99",
   "metadata": {},
   "outputs": [
    {
     "ename": "UndefVarError",
     "evalue": "UndefVarError: `C4` not defined in `Main`\nSuggestion: check for spelling errors or missing imports.",
     "output_type": "error",
     "traceback": [
      "UndefVarError: `C4` not defined in `Main`\n",
      "Suggestion: check for spelling errors or missing imports.\n",
      "\n",
      "Stacktrace:\n",
      " [1] top-level scope\n",
      "   @ ~/development/Projects/nFiniteGroups/test/jl_notebook_cell_df34fa98e69747e1a8f8a730347b8e2f_X43sZmlsZQ==.jl:1"
     ]
    }
   ],
   "source": [
    "multiplication_table(C4.elements)"
   ]
  },
  {
   "cell_type": "code",
   "execution_count": 13,
   "id": "8c5c8ddf",
   "metadata": {},
   "outputs": [
    {
     "ename": "ErrorException",
     "evalue": "type CGroupElement has no field rep",
     "output_type": "error",
     "traceback": [
      "type CGroupElement has no field rep\n",
      "\n",
      "Stacktrace:\n",
      " [1] getproperty(x::CGroupElement{6}, f::Symbol)\n",
      "   @ Base ./Base.jl:49\n",
      " [2] top-level scope\n",
      "   @ ~/development/Projects/nFiniteGroups/test/jl_notebook_cell_df34fa98e69747e1a8f8a730347b8e2f_X44sZmlsZQ==.jl:1"
     ]
    }
   ],
   "source": [
    "find_in_group_by_representation(C6, C6(:C61).rep * C6(:C62).rep).sym"
   ]
  },
  {
   "cell_type": "code",
   "execution_count": 14,
   "id": "a06eceec",
   "metadata": {},
   "outputs": [
    {
     "ename": "UndefVarError",
     "evalue": "UndefVarError: `C4` not defined in `Main`\nSuggestion: check for spelling errors or missing imports.",
     "output_type": "error",
     "traceback": [
      "UndefVarError: `C4` not defined in `Main`\n",
      "Suggestion: check for spelling errors or missing imports.\n",
      "\n",
      "Stacktrace:\n",
      " [1] top-level scope\n",
      "   @ ~/development/Projects/nFiniteGroups/test/jl_notebook_cell_df34fa98e69747e1a8f8a730347b8e2f_X45sZmlsZQ==.jl:1"
     ]
    }
   ],
   "source": [
    "C4(:C4_2).rep *C4(:C4_1).rep "
   ]
  },
  {
   "cell_type": "code",
   "execution_count": 15,
   "id": "1fc2b0ce",
   "metadata": {},
   "outputs": [
    {
     "ename": "UndefVarError",
     "evalue": "UndefVarError: `C4` not defined in `Main`\nSuggestion: check for spelling errors or missing imports.",
     "output_type": "error",
     "traceback": [
      "UndefVarError: `C4` not defined in `Main`\n",
      "Suggestion: check for spelling errors or missing imports.\n",
      "\n",
      "Stacktrace:\n",
      " [1] top-level scope\n",
      "   @ ~/development/Projects/nFiniteGroups/test/jl_notebook_cell_df34fa98e69747e1a8f8a730347b8e2f_X46sZmlsZQ==.jl:1"
     ]
    }
   ],
   "source": [
    "C4(:C4_1).rep "
   ]
  },
  {
   "cell_type": "code",
   "execution_count": 16,
   "id": "ec5b7840",
   "metadata": {},
   "outputs": [
    {
     "data": {
      "text/plain": [
       "12-element Vector{String}:\n",
       " \"E\"\n",
       " \"C2x\"\n",
       " \"C2y\"\n",
       " \"C2z\"\n",
       " \"C3a\"\n",
       " \"C3a2\"\n",
       " \"C3b\"\n",
       " \"C3b2\"\n",
       " \"C3c\"\n",
       " \"C3c2\"\n",
       " \"C3d\"\n",
       " \"C3d2\""
      ]
     },
     "metadata": {},
     "output_type": "display_data"
    }
   ],
   "source": [
    "x=[:E, :C2x, :C2y, :C2z, :C3a, :C3a2, :C3b, :C3b2, :C3c, :C3c2, :C3d, :C3d2]\n",
    "t=[String(s) for s in x]\n",
    "# join(t, \", \")\n"
   ]
  },
  {
   "cell_type": "code",
   "execution_count": 17,
   "id": "b5da837d",
   "metadata": {},
   "outputs": [
    {
     "data": {
      "text/plain": [
       ":C4_1"
      ]
     },
     "metadata": {},
     "output_type": "display_data"
    }
   ],
   "source": [
    "\n",
    "Symbol(\"C4_1\")\n"
   ]
  },
  {
   "cell_type": "code",
   "execution_count": 18,
   "id": "d56e4bfd",
   "metadata": {},
   "outputs": [
    {
     "data": {
      "text/plain": [
       "1"
      ]
     },
     "metadata": {},
     "output_type": "display_data"
    }
   ],
   "source": [
    "divrem(7, 3)[2]"
   ]
  },
  {
   "cell_type": "code",
   "execution_count": 19,
   "id": "0cf65e80",
   "metadata": {},
   "outputs": [
    {
     "data": {
      "text/plain": [
       ":as"
      ]
     },
     "metadata": {},
     "output_type": "display_data"
    }
   ],
   "source": [
    "q=3\n",
    "Symbol(\"as\")"
   ]
  },
  {
   "cell_type": "code",
   "execution_count": 20,
   "id": "deb82df4",
   "metadata": {},
   "outputs": [
    {
     "data": {
      "text/plain": [
       "Symbol(\"(3)\")"
      ]
     },
     "metadata": {},
     "output_type": "display_data"
    }
   ],
   "source": [
    "Symbol(\"($q)\")"
   ]
  },
  {
   "cell_type": "code",
   "execution_count": 21,
   "id": "1ac28933",
   "metadata": {},
   "outputs": [],
   "source": []
  },
  {
   "cell_type": "code",
   "execution_count": 22,
   "id": "d91bcd76",
   "metadata": {},
   "outputs": [
    {
     "ename": "UndefVarError",
     "evalue": "UndefVarError: `find` not defined in `Main`\nSuggestion: check for spelling errors or missing imports.",
     "output_type": "error",
     "traceback": [
      "UndefVarError: `find` not defined in `Main`\n",
      "Suggestion: check for spelling errors or missing imports.\n",
      "\n",
      "Stacktrace:\n",
      " [1] top-level scope\n",
      "   @ ~/development/Projects/nFiniteGroups/test/jl_notebook_cell_df34fa98e69747e1a8f8a730347b8e2f_X56sZmlsZQ==.jl:2"
     ]
    }
   ],
   "source": [
    "s=\"abcdefgh\"\n",
    "find(\"a\", s)"
   ]
  },
  {
   "cell_type": "code",
   "execution_count": 23,
   "id": "8498e2c2",
   "metadata": {},
   "outputs": [
    {
     "data": {
      "text/plain": [
       "1"
      ]
     },
     "metadata": {},
     "output_type": "display_data"
    }
   ],
   "source": [
    "findfirst('a', s)"
   ]
  },
  {
   "cell_type": "code",
   "execution_count": 24,
   "id": "bc6ae655",
   "metadata": {},
   "outputs": [
    {
     "data": {
      "text/plain": [
       "multiplication_table (generic function with 2 methods)"
      ]
     },
     "metadata": {},
     "output_type": "display_data"
    }
   ],
   "source": [
    "function multiplication_table(G::PointGroup)\n",
    "    n = length(G.elements)\n",
    "    table = Matrix{Symbol}(undef, n, n)\n",
    "    kk = keys(G.elements)\n",
    "    println(kk)\n",
    "    for (i, k1) in enumerate(kk) \n",
    "        for (j, k2) in enumerate(kk)\n",
    "            k = find_in_group_by_representation(G, G(k2).rep * G(k1).rep)\n",
    "            if k != nothing\n",
    "                table[i, j] = find_in_group_by_representation(G, G(k2).rep * G(k1).rep).sym\n",
    "            end\n",
    "\n",
    "        end\n",
    "    end\n",
    "    return table\n",
    "end"
   ]
  },
  {
   "cell_type": "code",
   "execution_count": 25,
   "id": "4393fb18",
   "metadata": {},
   "outputs": [
    {
     "ename": "UndefVarError",
     "evalue": "UndefVarError: `D6h` not defined in `Main`\nSuggestion: check for spelling errors or missing imports.",
     "output_type": "error",
     "traceback": [
      "UndefVarError: `D6h` not defined in `Main`\n",
      "Suggestion: check for spelling errors or missing imports.\n",
      "\n",
      "Stacktrace:\n",
      " [1] top-level scope\n",
      "   @ ~/development/Projects/nFiniteGroups/test/jl_notebook_cell_df34fa98e69747e1a8f8a730347b8e2f_X62sZmlsZQ==.jl:1"
     ]
    }
   ],
   "source": [
    "multiplication_table(D6h)"
   ]
  },
  {
   "cell_type": "code",
   "execution_count": 26,
   "id": "daeb7b96",
   "metadata": {},
   "outputs": [
    {
     "ename": "UndefVarError",
     "evalue": "UndefVarError: `D3h` not defined in `Main`\nSuggestion: check for spelling errors or missing imports.",
     "output_type": "error",
     "traceback": [
      "UndefVarError: `D3h` not defined in `Main`\n",
      "Suggestion: check for spelling errors or missing imports.\n",
      "\n",
      "Stacktrace:\n",
      " [1] top-level scope\n",
      "   @ ~/development/Projects/nFiniteGroups/test/jl_notebook_cell_df34fa98e69747e1a8f8a730347b8e2f_X63sZmlsZQ==.jl:1"
     ]
    }
   ],
   "source": [
    "find_in_group_by_representation(D3h, map(x->round(Int64, x), inv(D3h(:σ2σh).rep))).sym"
   ]
  },
  {
   "cell_type": "code",
   "execution_count": 27,
   "id": "c289ce74",
   "metadata": {},
   "outputs": [
    {
     "ename": "UndefVarError",
     "evalue": "UndefVarError: `D6h` not defined in `Main`\nSuggestion: check for spelling errors or missing imports.",
     "output_type": "error",
     "traceback": [
      "UndefVarError: `D6h` not defined in `Main`\n",
      "Suggestion: check for spelling errors or missing imports.\n",
      "\n",
      "Stacktrace:\n",
      " [1] top-level scope\n",
      "   @ ~/development/Projects/nFiniteGroups/test/jl_notebook_cell_df34fa98e69747e1a8f8a730347b8e2f_X64sZmlsZQ==.jl:1"
     ]
    }
   ],
   "source": [
    "q=sort([String(x) for (x, y) in D6h.elements])"
   ]
  },
  {
   "cell_type": "code",
   "execution_count": 28,
   "id": "79d31c97",
   "metadata": {},
   "outputs": [
    {
     "ename": "MethodError",
     "evalue": "MethodError: no method matching *(::Symbol, ::Symbol)\nThe function `*` exists, but no method is defined for this combination of argument types.\n\nClosest candidates are:\n  *(::Any, ::Any, !Matched::Any, !Matched::Any...)\n   @ Base operators.jl:596\n  *(!Matched::Regex)\n   @ Base regex.jl:849\n  *(!Matched::Bool, !Matched::Complex{Bool})\n   @ Base complex.jl:312\n  ...\n",
     "output_type": "error",
     "traceback": [
      "MethodError: no method matching *(::Symbol, ::Symbol)\n",
      "The function `*` exists, but no method is defined for this combination of argument types.\n",
      "\n",
      "Closest candidates are:\n",
      "  *(::Any, ::Any, !Matched::Any, !Matched::Any...)\n",
      "   @ Base operators.jl:596\n",
      "  *(!Matched::Regex)\n",
      "   @ Base regex.jl:849\n",
      "  *(!Matched::Bool, !Matched::Complex{Bool})\n",
      "   @ Base complex.jl:312\n",
      "  ...\n",
      "\n",
      "\n",
      "Stacktrace:\n",
      " [1] top-level scope\n",
      "   @ ~/development/Projects/nFiniteGroups/test/jl_notebook_cell_df34fa98e69747e1a8f8a730347b8e2f_X65sZmlsZQ==.jl:1"
     ]
    }
   ],
   "source": [
    ":σ * :σc"
   ]
  },
  {
   "cell_type": "code",
   "execution_count": 29,
   "id": "faaf2a34",
   "metadata": {},
   "outputs": [
    {
     "data": {
      "text/plain": [
       "97"
      ]
     },
     "metadata": {},
     "output_type": "display_data"
    }
   ],
   "source": [
    "Int64('a')"
   ]
  },
  {
   "cell_type": "code",
   "execution_count": 30,
   "id": "ce6fd423",
   "metadata": {},
   "outputs": [
    {
     "data": {
      "text/plain": [
       "LittleDict{Any, Any, Vector{Any}, Vector{Any}}()"
      ]
     },
     "metadata": {},
     "output_type": "display_data"
    }
   ],
   "source": [
    "x=LittleDict()"
   ]
  },
  {
   "cell_type": "code",
   "execution_count": 31,
   "id": "07d27a5b",
   "metadata": {},
   "outputs": [
    {
     "data": {
      "text/plain": [
       ":b"
      ]
     },
     "metadata": {},
     "output_type": "display_data"
    }
   ],
   "source": [
    "x[:a]=:b"
   ]
  },
  {
   "cell_type": "code",
   "execution_count": 32,
   "id": "3e2cf635",
   "metadata": {},
   "outputs": [],
   "source": []
  }
 ],
 "metadata": {
  "kernelspec": {
   "display_name": "Julia 1.11.5",
   "language": "julia",
   "name": "julia-1.11"
  },
  "language_info": {
   "file_extension": ".jl",
   "mimetype": "application/julia",
   "name": "julia",
   "version": "1.11.5"
  }
 },
 "nbformat": 4,
 "nbformat_minor": 5
}

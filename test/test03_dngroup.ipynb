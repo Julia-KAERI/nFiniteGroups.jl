{
 "cells": [
  {
   "cell_type": "code",
   "execution_count": 1,
   "id": "893c2533",
   "metadata": {},
   "outputs": [
    {
     "name": "stderr",
     "output_type": "stream",
     "text": [
      "\u001b[32m\u001b[1m  Activating\u001b[22m\u001b[39m project at `~/development/Projects/nFiniteGroups`\n"
     ]
    }
   ],
   "source": [
    "using Pkg\n",
    "#Pkg.activate(\"/Users/jiyong/development/Projects/nFiniteGroups.jl\")\n",
    "Pkg.activate(\"/Users/jiyongso/development/Projects/nFiniteGroups\")\n",
    "using LinearAlgebra\n",
    "using nFiniteGroups\n",
    "using Printf"
   ]
  },
  {
   "cell_type": "code",
   "execution_count": 2,
   "id": "4a857835",
   "metadata": {},
   "outputs": [
    {
     "data": {
      "text/plain": [
       "DnhGroup{3}(Dict{Symbol, DnhGroupElement{3}}(:σ1σh => DnhGroupElement{3}(:σ1σh, [0 0 … 0 1; 0 0 … 1 0; … ; 0 1 … 0 0; 1 0 … 0 0], :σ1σh, DnhGroup{3}), :C32 => DnhGroupElement{3}(:C32, [0 0 … 0 0; 0 0 … 0 0; … ; 0 0 … 0 0; 0 0 … 0 0], :C31, DnhGroup{3}), :σ3 => DnhGroupElement{3}(:σ3, [0 0 … 0 0; 0 0 … 0 0; … ; 0 0 … 0 1; 0 0 … 1 0], :σ3, DnhGroup{3}), :σ2σh => DnhGroupElement{3}(:σ2σh, [0 0 … 0 0; 0 0 … 0 0; … ; 0 0 … 0 0; 0 0 … 0 0], :σ2σh, DnhGroup{3}), :S32 => DnhGroupElement{3}(:S32, [0 0 … 0 0; 0 0 … 0 0; … ; 1 0 … 0 0; 0 1 … 0 0], :S31, DnhGroup{3}), :σh => DnhGroupElement{3}(:σh, [0 0 … 0 0; 0 0 … 0 0; … ; 0 0 … 0 0; 0 0 … 0 0], :σh, DnhGroup{3}), :C31 => DnhGroupElement{3}(:C31, [0 0 … 0 0; 0 0 … 0 0; … ; 0 0 … 0 0; 0 0 … 0 0], :C32, DnhGroup{3}), :S31 => DnhGroupElement{3}(:S31, [0 0 … 1 0; 0 0 … 0 1; … ; 0 0 … 0 0; 0 0 … 0 0], :S32, DnhGroup{3}), :σ2 => DnhGroupElement{3}(:σ2, [0 1 … 0 0; 1 0 … 0 0; … ; 0 0 … 0 0; 0 0 … 0 0], :σ2, DnhGroup{3}), :E => DnhGroupElement{3}(:E, [1 0 … 0 0; 0 1 … 0 0; … ; 0 0 … 1 0; 0 0 … 0 1], :E, DnhGroup{3})…), \"D3h\", 12)"
      ]
     },
     "metadata": {},
     "output_type": "display_data"
    }
   ],
   "source": [
    "D3h=DnhGroup(3)"
   ]
  },
  {
   "cell_type": "code",
   "execution_count": 3,
   "id": "dbac07b0",
   "metadata": {},
   "outputs": [
    {
     "data": {
      "text/plain": [
       "12-element Vector{Tuple{Symbol, Float64}}:\n",
       " (:σ1σh, 1.0)\n",
       " (:C32, 1.0)\n",
       " (:σ3, 1.0)\n",
       " (:σ2σh, 1.0)\n",
       " (:S32, 1.0)\n",
       " (:σh, 1.0)\n",
       " (:C31, 1.0)\n",
       " (:S31, 1.0)\n",
       " (:σ2, 1.0)\n",
       " (:E, 1.0)\n",
       " (:σ1, 1.0)\n",
       " (:σ3σh, 1.0)"
      ]
     },
     "metadata": {},
     "output_type": "display_data"
    }
   ],
   "source": [
    "[(s, det(D3h(s).rep)) for (s, t) in D3h.elements] \n"
   ]
  },
  {
   "cell_type": "code",
   "execution_count": 4,
   "id": "7edd3372",
   "metadata": {},
   "outputs": [
    {
     "data": {
      "text/plain": [
       "6-element Vector{Any}:\n",
       " Set([:σ1σh, :σ2σh, :σ3σh])\n",
       " Set([:C32, :C31])\n",
       " Set([:σ3, :σ2, :σ1])\n",
       " Set([:S32, :S31])\n",
       " Set([:σh])\n",
       " Set([:E])"
      ]
     },
     "metadata": {},
     "output_type": "display_data"
    }
   ],
   "source": [
    "classes(D3h)"
   ]
  },
  {
   "cell_type": "code",
   "execution_count": 6,
   "id": "c27ca5a4",
   "metadata": {},
   "outputs": [
    {
     "data": {
      "text/plain": [
       "12-element Vector{Symbol}:\n",
       " :σ1σh\n",
       " :C32\n",
       " :σ3\n",
       " :σ2σh\n",
       " :S32\n",
       " :σh\n",
       " :C31\n",
       " :S31\n",
       " :σ2\n",
       " :E\n",
       " :σ1\n",
       " :σ3σh"
      ]
     },
     "metadata": {},
     "output_type": "display_data"
    }
   ],
   "source": [
    "X=elements(D3h)\n"
   ]
  },
  {
   "cell_type": "code",
   "execution_count": null,
   "id": "a141de99",
   "metadata": {},
   "outputs": [],
   "source": [
    "inv(D2d(:S41).rep)"
   ]
  },
  {
   "cell_type": "code",
   "execution_count": null,
   "id": "8c5c8ddf",
   "metadata": {},
   "outputs": [],
   "source": [
    "D2d(:S43).rep"
   ]
  },
  {
   "cell_type": "code",
   "execution_count": null,
   "id": "a06eceec",
   "metadata": {},
   "outputs": [],
   "source": [
    "C4(:C4_2).rep *C4(:C4_1).rep "
   ]
  },
  {
   "cell_type": "code",
   "execution_count": null,
   "id": "1fc2b0ce",
   "metadata": {},
   "outputs": [],
   "source": [
    "C4(:C4_1).rep "
   ]
  },
  {
   "cell_type": "code",
   "execution_count": null,
   "id": "ec5b7840",
   "metadata": {},
   "outputs": [],
   "source": [
    "x=[:E, :C2x, :C2y, :C2z, :C3a, :C3a2, :C3b, :C3b2, :C3c, :C3c2, :C3d, :C3d2]\n",
    "t=[String(s) for s in x]\n",
    "# join(t, \", \")\n"
   ]
  },
  {
   "cell_type": "code",
   "execution_count": null,
   "id": "b5da837d",
   "metadata": {},
   "outputs": [],
   "source": [
    "\n",
    "Symbol(\"C4_1\")\n"
   ]
  },
  {
   "cell_type": "code",
   "execution_count": null,
   "id": "d56e4bfd",
   "metadata": {},
   "outputs": [],
   "source": [
    "divrem(7, 3)[2]"
   ]
  },
  {
   "cell_type": "code",
   "execution_count": null,
   "id": "0cf65e80",
   "metadata": {},
   "outputs": [],
   "source": [
    "q=3\n",
    "Symbol(\"as\")"
   ]
  },
  {
   "cell_type": "code",
   "execution_count": null,
   "id": "deb82df4",
   "metadata": {},
   "outputs": [],
   "source": [
    "Symbol(\"($q)\")"
   ]
  },
  {
   "cell_type": "code",
   "execution_count": null,
   "id": "1ac28933",
   "metadata": {},
   "outputs": [],
   "source": []
  },
  {
   "cell_type": "code",
   "execution_count": null,
   "id": "d91bcd76",
   "metadata": {},
   "outputs": [],
   "source": [
    "s=\"abcdefgh\"\n",
    "find(\"a\", s)"
   ]
  },
  {
   "cell_type": "code",
   "execution_count": null,
   "id": "8498e2c2",
   "metadata": {},
   "outputs": [],
   "source": [
    "findfirst('a', s)"
   ]
  },
  {
   "cell_type": "code",
   "execution_count": null,
   "id": "bc6ae655",
   "metadata": {},
   "outputs": [],
   "source": [
    "function multiplication_table(G::PointGroup)\n",
    "    n = length(G.elements)\n",
    "    table = Matrix{Symbol}(undef, n, n)\n",
    "    kk = keys(G.elements)\n",
    "    println(kk)\n",
    "    for (i, k1) in enumerate(kk) \n",
    "        for (j, k2) in enumerate(kk)\n",
    "            k = find_in_group_by_representation(G, G(k2).rep * G(k1).rep)\n",
    "            if k != nothing\n",
    "                table[i, j] = find_in_group_by_representation(G, G(k2).rep * G(k1).rep).sym\n",
    "            end\n",
    "\n",
    "        end\n",
    "    end\n",
    "    return table\n",
    "end"
   ]
  },
  {
   "cell_type": "code",
   "execution_count": null,
   "id": "4393fb18",
   "metadata": {},
   "outputs": [],
   "source": [
    "multiplication_table(D3h)"
   ]
  },
  {
   "cell_type": "code",
   "execution_count": null,
   "id": "daeb7b96",
   "metadata": {},
   "outputs": [],
   "source": [
    "find_in_group_by_representation(D3h, map(x->round(Int64, x), inv(D3h(:σ2σh).rep))).sym"
   ]
  },
  {
   "cell_type": "code",
   "execution_count": null,
   "id": "c289ce74",
   "metadata": {},
   "outputs": [],
   "source": [
    "String(:i)"
   ]
  },
  {
   "cell_type": "code",
   "execution_count": 8,
   "id": "79d31c97",
   "metadata": {},
   "outputs": [
    {
     "ename": "MethodError",
     "evalue": "MethodError: no method matching *(::Symbol, ::Symbol)\nThe function `*` exists, but no method is defined for this combination of argument types.\n\nClosest candidates are:\n  *(::Any, ::Any, !Matched::Any, !Matched::Any...)\n   @ Base operators.jl:596\n  *(!Matched::Regex)\n   @ Base regex.jl:849\n  *(!Matched::Bool, !Matched::Complex{Bool})\n   @ Base complex.jl:312\n  ...\n",
     "output_type": "error",
     "traceback": [
      "MethodError: no method matching *(::Symbol, ::Symbol)\n",
      "The function `*` exists, but no method is defined for this combination of argument types.\n",
      "\n",
      "Closest candidates are:\n",
      "  *(::Any, ::Any, !Matched::Any, !Matched::Any...)\n",
      "   @ Base operators.jl:596\n",
      "  *(!Matched::Regex)\n",
      "   @ Base regex.jl:849\n",
      "  *(!Matched::Bool, !Matched::Complex{Bool})\n",
      "   @ Base complex.jl:312\n",
      "  ...\n",
      "\n",
      "\n",
      "Stacktrace:\n",
      " [1] top-level scope\n",
      "   @ ~/development/Projects/nFiniteGroups/test/jl_notebook_cell_df34fa98e69747e1a8f8a730347b8e2f_X31sZmlsZQ==.jl:1"
     ]
    }
   ],
   "source": [
    ":σ * :σc"
   ]
  },
  {
   "cell_type": "code",
   "execution_count": null,
   "id": "faaf2a34",
   "metadata": {},
   "outputs": [],
   "source": []
  }
 ],
 "metadata": {
  "kernelspec": {
   "display_name": "Julia 1.11.5",
   "language": "julia",
   "name": "julia-1.11"
  },
  "language_info": {
   "file_extension": ".jl",
   "mimetype": "application/julia",
   "name": "julia",
   "version": "1.11.5"
  }
 },
 "nbformat": 4,
 "nbformat_minor": 5
}

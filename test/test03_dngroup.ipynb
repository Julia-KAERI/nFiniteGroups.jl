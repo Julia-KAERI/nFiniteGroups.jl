{
 "cells": [
  {
   "cell_type": "code",
   "execution_count": 1,
   "id": "893c2533",
   "metadata": {},
   "outputs": [
    {
     "name": "stderr",
     "output_type": "stream",
     "text": [
      "\u001b[32m\u001b[1m  Activating\u001b[22m\u001b[39m project at `~/development/Projects/nFiniteGroups`\n"
     ]
    }
   ],
   "source": [
    "using Pkg\n",
    "#Pkg.activate(\"/Users/jiyong/development/Projects/nFiniteGroups.jl\")\n",
    "Pkg.activate(\"/Users/jiyongso/development/Projects/nFiniteGroups\")\n",
    "using LinearAlgebra\n",
    "using nFiniteGroups\n",
    "using OrderedCollections\n",
    "using Printf\n",
    "using BenchmarkTools"
   ]
  },
  {
   "cell_type": "code",
   "execution_count": 2,
   "id": "4a857835",
   "metadata": {},
   "outputs": [
    {
     "name": "stdout",
     "output_type": "stream",
     "text": [
      "M = [ :E :C61 :C31 :C21 :C32 :C65 :σ1 :σ2 :σ3 :σ1d :σ2d :σ3d ;\n",
      "      :C61 :C31 :C21 :C32 :C65 :E :σ3d :σ1d :σ2d :σ1 :σ2 :σ3 ;\n",
      "      :C31 :C21 :C32 :C65 :E :C61 :σ3 :σ1 :σ2 :σ3d :σ1d :σ2d ;\n",
      "      :C21 :C32 :C65 :E :C61 :C31 :σ2d :σ3d :σ1d :σ3 :σ1 :σ2 ;\n",
      "      :C32 :C65 :E :C61 :C31 :C21 :σ2 :σ3 :σ1 :σ2d :σ3d :σ1d ;\n",
      "      :C65 :E :C61 :C31 :C21 :C32 :σ1d :σ2d :σ3d :σ2 :σ3 :σ1 ;\n",
      "      :σ1 :σ1d :σ2 :σ2d :σ3 :σ3d :E :C31 :C32 :C61 :C21 :C65 ;\n",
      "      :σ2 :σ2d :σ3 :σ3d :σ1 :σ1d :C32 :E :C31 :C65 :C61 :C21 ;\n",
      "      :σ3 :σ3d :σ1 :σ1d :σ2 :σ2d :C31 :C32 :E :C21 :C65 :C61 ;\n",
      "      :σ1d :σ2 :σ2d :σ3 :σ3d :σ1 :C65 :C61 :C21 :E :C31 :C32 ;\n",
      "      :σ2d :σ3 :σ3d :σ1 :σ1d :σ2 :C21 :C65 :C61 :C32 :E :C31 ;\n",
      "      :σ3d :σ1 :σ1d :σ2 :σ2d :σ3 :C61 :C21 :C65 :C31 :C32 :E]\n"
     ]
    }
   ],
   "source": [
    "N=6\n",
    "X=CvBaseGroup(N) \n",
    "C=CvGroup(N)\n",
    "M = Matrix{Symbol}(undef, (order(C), order(C)))\n",
    "Mst = \"M = [\"\n",
    "for (i, k1) in enumerate(elements(C)), (j, k2) in enumerate(elements(C))\n",
    "    r=(X(k2)*X(k1)).sym\n",
    "    M[i, j] = r\n",
    "    Mst *=\" :$(String(r))\"\n",
    "    if j == order(C) && i ≠ order(C)\n",
    "        Mst *= \" ;\\n     \"\n",
    "    elseif j == order(C) && i == order(C)\n",
    "        Mst  *= \"]\"\n",
    "    end\n",
    "end\n",
    "\n",
    "\n",
    "Dict([(k => id) for (id, k) in enumerate(elements(C))])\n",
    "println(Mst)"
   ]
  },
  {
   "cell_type": "code",
   "execution_count": 3,
   "id": "dbac07b0",
   "metadata": {},
   "outputs": [
    {
     "data": {
      "text/plain": [
       "6-element Vector{Any}:\n",
       " Set([:C32, :C31])\n",
       " Set([:σ3, :σ2, :σ1])\n",
       " Set([:C61, :C65])\n",
       " Set([:σ2d, :σ3d, :σ1d])\n",
       " Set([:C21])\n",
       " Set([:E])"
      ]
     },
     "metadata": {},
     "output_type": "display_data"
    }
   ],
   "source": [
    "classes(X)"
   ]
  },
  {
   "cell_type": "code",
   "execution_count": null,
   "id": "0725e0fc",
   "metadata": {},
   "outputs": [
    {
     "data": {
      "text/plain": [
       "6-element Vector{Any}:\n",
       " Set([:C32, :C31])\n",
       " Set([:σ3, :σ2, :σ1])\n",
       " Set([:C61, :C65])\n",
       " Set([:σ2d, :σ3d, :σ1d])\n",
       " Set([:C21])\n",
       " Set([:E])"
      ]
     },
     "metadata": {},
     "output_type": "display_data"
    }
   ],
   "source": [
    "classes(C)"
   ]
  },
  {
   "cell_type": "code",
   "execution_count": 7,
   "id": "96746ba4",
   "metadata": {},
   "outputs": [
    {
     "name": "stdout",
     "output_type": "stream",
     "text": [
      "  427.553 ns (3 allocations: 96 bytes)\n"
     ]
    },
    {
     "data": {
      "text/plain": [
       "σ1 [C6v]\n"
      ]
     },
     "metadata": {},
     "output_type": "display_data"
    }
   ],
   "source": [
    "@btime gmul(C(:C61),C(:σ1d))"
   ]
  },
  {
   "cell_type": "code",
   "execution_count": null,
   "id": "6c20a656",
   "metadata": {},
   "outputs": [],
   "source": [
    "C6(:C61)*C6(:C21) == gmul(C6(:C61), C6(:C21))"
   ]
  },
  {
   "cell_type": "code",
   "execution_count": null,
   "id": "8463f479",
   "metadata": {},
   "outputs": [],
   "source": [
    "N=2\n",
    "X=CvBaseGroup(N) \n",
    "println(join([\":$k => :$((inv(X(k))).sym)\" for k in elements(X)], \",\\n\"))"
   ]
  },
  {
   "cell_type": "code",
   "execution_count": null,
   "id": "6e5bad8c",
   "metadata": {},
   "outputs": [],
   "source": [
    "x=\"fabcdelghijk\"\n",
    "mat = zeros(Int64, 12, 12)\n",
    "for i in 1:12\n",
    "    mat[:, i] = char2row(x[i], 12)\n",
    "end\n",
    "\n",
    "det(mat)"
   ]
  },
  {
   "cell_type": "code",
   "execution_count": null,
   "id": "d2464ebb",
   "metadata": {},
   "outputs": [],
   "source": [
    "N=6\n",
    "els = LittleDict(\n",
    "                :E => ChBaseGroupElement(N, :E,     \"abcdefghijkl\", :E),\n",
    "                :C61 => ChBaseGroupElement(N, :C61, \"bcdefahijklg\", :C65),\n",
    "                :C31 => ChBaseGroupElement(N, :C31, \"cdefabijklgh\", :C32),\n",
    "                :C21 => ChBaseGroupElement(N, :C21, \"defabcjklghi\", :C21),\n",
    "                :C32 => ChBaseGroupElement(N, :C32, \"efabcdklghij\", :C31),\n",
    "                :C65 => ChBaseGroupElement(N, :C65, \"fabcdelghijk\", :C61),\n",
    "                :σh => ChBaseGroupElement(N, :σh,   \"ghijklabcdef\", :σh),\n",
    "                :S61 => ChBaseGroupElement(N, :S61, \"hijklgbcdefa\", :S65),\n",
    "                :S31 => ChBaseGroupElement(N, :S31, \"ijklghcdefab\", :S32),\n",
    "                :i => ChBaseGroupElement(N, :i,     \"jklghidefabc\", :i),\n",
    "                :S32 => ChBaseGroupElement(N, :S32, \"klghijefabcd\", :S31),\n",
    "                :S65 => ChBaseGroupElement(N, :S65, \"lghijkfabcde\", :S61),\n",
    "            )"
   ]
  },
  {
   "cell_type": "code",
   "execution_count": null,
   "id": "147a8079",
   "metadata": {},
   "outputs": [],
   "source": [
    "M = Matrix{Symbol}(undef, (order(C5), order(C5)))\n",
    "for (i, k1) in enumerate(elements(C5)), (j, k2) in enumerate(elements(C5))\n",
    "    M[i, j] = (X(k2)*X(k1)).sym\n",
    "end\n",
    "M"
   ]
  },
  {
   "cell_type": "code",
   "execution_count": null,
   "id": "3feeabd9",
   "metadata": {},
   "outputs": [],
   "source": [
    "(X(:C51)*X(:C53)).sym"
   ]
  },
  {
   "cell_type": "code",
   "execution_count": null,
   "id": "2eeec254",
   "metadata": {},
   "outputs": [],
   "source": [
    "classes(X)"
   ]
  },
  {
   "cell_type": "code",
   "execution_count": null,
   "id": "b5e215af",
   "metadata": {},
   "outputs": [],
   "source": [
    "X=CBaseGroup(5)\n",
    "s=join([\"$k => :$s\" for (k, s) in X.table], \",\\n\")\n",
    "println(s)"
   ]
  },
  {
   "cell_type": "code",
   "execution_count": null,
   "id": "4ea79f7d",
   "metadata": {},
   "outputs": [],
   "source": [
    "[k for k in elements(C6)]"
   ]
  },
  {
   "cell_type": "code",
   "execution_count": null,
   "id": "f9904422",
   "metadata": {},
   "outputs": [],
   "source": [
    "dict2str(D::LittleDict) = join(\"\\n\", [\"$(k) => $(s)\" for (k, s) in D])"
   ]
  },
  {
   "cell_type": "code",
   "execution_count": null,
   "id": "7edd3372",
   "metadata": {},
   "outputs": [],
   "source": [
    "r=join([\"$(k) => $(s)\" for (k, s) in Td.table], \", \\n\")"
   ]
  },
  {
   "cell_type": "code",
   "execution_count": null,
   "id": "410a9a4c",
   "metadata": {},
   "outputs": [],
   "source": [
    "println(r)"
   ]
  },
  {
   "cell_type": "code",
   "execution_count": null,
   "id": "c27ca5a4",
   "metadata": {},
   "outputs": [],
   "source": [
    "function multiplication_table(D::LittleDict)\n",
    "    function _find(D, rep) \n",
    "        for (key, value) in D\n",
    "            if value.rep == rep\n",
    "                return key\n",
    "            end\n",
    "        end\n",
    "        return nothing\n",
    "    end\n",
    "    n = length(D)\n",
    "    table = LittleDict{Tuple{Symbol, Symbol}, Symbol}()\n",
    "    kk = keys(D)\n",
    "    for k1 in kk\n",
    "        for k2 in kk\n",
    "            k = _find(D, D[k2].rep * D[k1].rep)\n",
    "            table[(k2, k1)] = k\n",
    "        end\n",
    "    end\n",
    "    return table\n",
    "end\n"
   ]
  },
  {
   "cell_type": "code",
   "execution_count": null,
   "id": "a141de99",
   "metadata": {},
   "outputs": [],
   "source": [
    "multiplication_table(C4.elements)"
   ]
  },
  {
   "cell_type": "code",
   "execution_count": null,
   "id": "8c5c8ddf",
   "metadata": {},
   "outputs": [],
   "source": [
    "find_in_group_by_representation(C6, C6(:C61).rep * C6(:C62).rep).sym"
   ]
  },
  {
   "cell_type": "code",
   "execution_count": null,
   "id": "a06eceec",
   "metadata": {},
   "outputs": [],
   "source": [
    "C4(:C4_2).rep *C4(:C4_1).rep "
   ]
  },
  {
   "cell_type": "code",
   "execution_count": null,
   "id": "1fc2b0ce",
   "metadata": {},
   "outputs": [],
   "source": [
    "C4(:C4_1).rep "
   ]
  },
  {
   "cell_type": "code",
   "execution_count": null,
   "id": "ec5b7840",
   "metadata": {},
   "outputs": [],
   "source": [
    "x=[:E, :C2x, :C2y, :C2z, :C3a, :C3a2, :C3b, :C3b2, :C3c, :C3c2, :C3d, :C3d2]\n",
    "t=[String(s) for s in x]\n",
    "# join(t, \", \")\n"
   ]
  },
  {
   "cell_type": "code",
   "execution_count": null,
   "id": "b5da837d",
   "metadata": {},
   "outputs": [],
   "source": [
    "\n",
    "Symbol(\"C4_1\")\n"
   ]
  },
  {
   "cell_type": "code",
   "execution_count": null,
   "id": "d56e4bfd",
   "metadata": {},
   "outputs": [],
   "source": [
    "divrem(7, 3)[2]"
   ]
  },
  {
   "cell_type": "code",
   "execution_count": null,
   "id": "0cf65e80",
   "metadata": {},
   "outputs": [],
   "source": [
    "q=3\n",
    "Symbol(\"as\")"
   ]
  },
  {
   "cell_type": "code",
   "execution_count": null,
   "id": "deb82df4",
   "metadata": {},
   "outputs": [],
   "source": [
    "Symbol(\"($q)\")"
   ]
  },
  {
   "cell_type": "code",
   "execution_count": null,
   "id": "1ac28933",
   "metadata": {},
   "outputs": [],
   "source": []
  },
  {
   "cell_type": "code",
   "execution_count": null,
   "id": "d91bcd76",
   "metadata": {},
   "outputs": [],
   "source": [
    "s=\"abcdefgh\"\n",
    "find(\"a\", s)"
   ]
  },
  {
   "cell_type": "code",
   "execution_count": null,
   "id": "8498e2c2",
   "metadata": {},
   "outputs": [],
   "source": [
    "findfirst('a', s)"
   ]
  },
  {
   "cell_type": "code",
   "execution_count": null,
   "id": "bc6ae655",
   "metadata": {},
   "outputs": [],
   "source": [
    "function multiplication_table(G::PointGroup)\n",
    "    n = length(G.elements)\n",
    "    table = Matrix{Symbol}(undef, n, n)\n",
    "    kk = keys(G.elements)\n",
    "    println(kk)\n",
    "    for (i, k1) in enumerate(kk) \n",
    "        for (j, k2) in enumerate(kk)\n",
    "            k = find_in_group_by_representation(G, G(k2).rep * G(k1).rep)\n",
    "            if k != nothing\n",
    "                table[i, j] = find_in_group_by_representation(G, G(k2).rep * G(k1).rep).sym\n",
    "            end\n",
    "\n",
    "        end\n",
    "    end\n",
    "    return table\n",
    "end"
   ]
  },
  {
   "cell_type": "code",
   "execution_count": null,
   "id": "4393fb18",
   "metadata": {},
   "outputs": [],
   "source": [
    "multiplication_table(D6h)"
   ]
  },
  {
   "cell_type": "code",
   "execution_count": null,
   "id": "daeb7b96",
   "metadata": {},
   "outputs": [],
   "source": [
    "find_in_group_by_representation(D3h, map(x->round(Int64, x), inv(D3h(:σ2σh).rep))).sym"
   ]
  },
  {
   "cell_type": "code",
   "execution_count": null,
   "id": "c289ce74",
   "metadata": {},
   "outputs": [],
   "source": [
    "q=sort([String(x) for (x, y) in D6h.elements])"
   ]
  },
  {
   "cell_type": "code",
   "execution_count": null,
   "id": "79d31c97",
   "metadata": {},
   "outputs": [],
   "source": [
    ":σ * :σc"
   ]
  },
  {
   "cell_type": "code",
   "execution_count": null,
   "id": "faaf2a34",
   "metadata": {},
   "outputs": [],
   "source": [
    "Int64('a')"
   ]
  },
  {
   "cell_type": "code",
   "execution_count": null,
   "id": "ce6fd423",
   "metadata": {},
   "outputs": [],
   "source": [
    "x=LittleDict()"
   ]
  },
  {
   "cell_type": "code",
   "execution_count": null,
   "id": "07d27a5b",
   "metadata": {},
   "outputs": [],
   "source": [
    "x[:a]=:b"
   ]
  },
  {
   "cell_type": "code",
   "execution_count": null,
   "id": "3e2cf635",
   "metadata": {},
   "outputs": [],
   "source": [
    "M = [ :E :C21 :σh :i ; \n",
    "    :C21 :E :i :σh ; \n",
    "    :σh :i :E :C21 ; \n",
    "    :i :σh :C21 :E]"
   ]
  },
  {
   "cell_type": "code",
   "execution_count": null,
   "id": "5a841847",
   "metadata": {},
   "outputs": [],
   "source": [
    "[:E;; ]"
   ]
  },
  {
   "cell_type": "code",
   "execution_count": null,
   "id": "c21aa5ae",
   "metadata": {},
   "outputs": [],
   "source": []
  }
 ],
 "metadata": {
  "kernelspec": {
   "display_name": "Julia 1.11.5",
   "language": "julia",
   "name": "julia-1.11"
  },
  "language_info": {
   "file_extension": ".jl",
   "mimetype": "application/julia",
   "name": "julia",
   "version": "1.11.5"
  }
 },
 "nbformat": 4,
 "nbformat_minor": 5
}

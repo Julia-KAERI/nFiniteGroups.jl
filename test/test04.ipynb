{
 "cells": [
  {
   "cell_type": "code",
   "execution_count": 1,
   "id": "893c2533",
   "metadata": {},
   "outputs": [
    {
     "name": "stderr",
     "output_type": "stream",
     "text": [
      "\u001b[32m\u001b[1m  Activating\u001b[22m\u001b[39m project at `~/development/Projects/nFiniteGroups`\n"
     ]
    }
   ],
   "source": [
    "using Pkg\n",
    "#Pkg.activate(\"/Users/jiyong/development/Projects/nFiniteGroups.jl\")\n",
    "Pkg.activate(\"/Users/jiyongso/development/Projects/nFiniteGroups\")\n",
    "using LinearAlgebra\n",
    "using nFiniteGroups\n",
    "using OrderedCollections\n",
    "using Printf\n",
    "using BenchmarkTools"
   ]
  },
  {
   "cell_type": "code",
   "execution_count": 4,
   "id": "4a857835",
   "metadata": {},
   "outputs": [
    {
     "data": {
      "text/plain": [
       "C2 [2 elements] : [:E, :C21]\n"
      ]
     },
     "metadata": {},
     "output_type": "display_data"
    }
   ],
   "source": [
    "D2=Group(:C2)\n",
    "# println(Mst)"
   ]
  },
  {
   "cell_type": "code",
   "execution_count": 3,
   "id": "dbac07b0",
   "metadata": {},
   "outputs": [
    {
     "data": {
      "text/plain": [
       "3-element Vector{Any}:\n",
       " Set([:C32, :C31])\n",
       " Set([:d2, :d1, :d3])\n",
       " Set([:E])"
      ]
     },
     "metadata": {},
     "output_type": "display_data"
    }
   ],
   "source": [
    "classes(D3)\n"
   ]
  },
  {
   "cell_type": "code",
   "execution_count": 7,
   "id": "0725e0fc",
   "metadata": {},
   "outputs": [
    {
     "data": {
      "text/plain": [
       ":C_32"
      ]
     },
     "metadata": {},
     "output_type": "display_data"
    }
   ],
   "source": [
    ":C_32"
   ]
  },
  {
   "cell_type": "code",
   "execution_count": null,
   "id": "96746ba4",
   "metadata": {},
   "outputs": [],
   "source": [
    "C(:C2be)"
   ]
  },
  {
   "cell_type": "code",
   "execution_count": null,
   "id": "6c20a656",
   "metadata": {},
   "outputs": [],
   "source": [
    "C6(:C61)*C6(:C21) == gmul(C6(:C61), C6(:C21))"
   ]
  },
  {
   "cell_type": "code",
   "execution_count": null,
   "id": "8463f479",
   "metadata": {},
   "outputs": [],
   "source": [
    "N=6\n",
    "X=OctahedralHorizontalBaseGroup()\n",
    "println(join([\":$k => :$((inv(X(k))).sym)\" for k in elements(X)], \",\\n\"))"
   ]
  },
  {
   "cell_type": "code",
   "execution_count": null,
   "id": "f6a441b8",
   "metadata": {},
   "outputs": [],
   "source": [
    "typeof(X(:E))"
   ]
  },
  {
   "cell_type": "code",
   "execution_count": null,
   "id": "27765156",
   "metadata": {},
   "outputs": [],
   "source": [
    "ks = keys(X.elements)\n",
    "dd= LittleDict([(k => det(X(k).rep)) for k in ks ])"
   ]
  },
  {
   "cell_type": "code",
   "execution_count": null,
   "id": "6e5bad8c",
   "metadata": {},
   "outputs": [],
   "source": [
    "cs = [  \"abcdef\", \"aecfdb\", \"adcbfe\", \"afcebd\", \"fbedac\", \n",
    "        \"cbadfe\", \"ebfdca\", \"bcdaef\", \"cdabef\", \"dabcef\", \n",
    "        \"badcfe\", \"dcbafe\", \"edfbac\", \"ceafbd\", \"fdebca\",  \n",
    "        \"cfaedb\", \"ecfadb\", \"dfbeac\",  \"bedfac\", \"eafcbd\", \n",
    "        \"fceabd\", \"debfca\",  \"bfdeca\", \"faecdb\", \n",
    "        \"cdabfe\", \"cfaebd\", \"cbadef\", \"ceafdb\", \"edfbca\", \n",
    "        \"adcbef\", \"fdebac\", \"dabcfe\", \"abcdfe\", \"bcdafe\", \n",
    "        \"dcbaef\", \"badcef\", \"fbedca\", \"afcedb\", \"ebfdac\", \n",
    "        \"aecfbd\", \"faecbd\", \"bedfca\", \"dfbeca\", \"fceadb\", \n",
    "        \"eafcdb\", \"bfdeac\", \"debfac\", \"ecfabd\", \n",
    "]\n",
    "\n",
    "function cs2mat(cs::String)\n",
    "    mat = zeros(Int64, 6, 6)\n",
    "    for i in 1:6\n",
    "        mat[:, i] = char2row(cs[i], 6)\n",
    "    end\n",
    "    return mat\n",
    "end\n",
    "\n",
    "MM = [cs2mat(c) for c in cs]\n",
    "\n",
    "K = fill(-1, 48, 48)\n",
    "\n",
    "for (i, m1) in enumerate(MM), (j, m2) in enumerate(MM)\n",
    "    r=findfirst(x->(x==(m2*m1)), MM)\n",
    "    if r != nothing\n",
    "        K[i, j] = r\n",
    "    end\n",
    "end"
   ]
  },
  {
   "cell_type": "code",
   "execution_count": null,
   "id": "d2464ebb",
   "metadata": {},
   "outputs": [],
   "source": [
    "N=32\n",
    "println(K[N:N, 1:12])\n",
    "println(K[N:N, 13:24])\n",
    "println(K[N:N, 25:36])\n",
    "println(K[N:N, 36:48])"
   ]
  },
  {
   "cell_type": "code",
   "execution_count": null,
   "id": "147a8079",
   "metadata": {},
   "outputs": [],
   "source": [
    "function oi(s::String)\n",
    "    q = Dict( \"a\"=>\"c\", \"b\"=>\"d\", \"c\"=>\"a\", \"d\"=>\"b\", \"e\"=>\"f\", \"f\"=>\"e\")\n",
    "    r = \"\"\n",
    "    for c in s\n",
    "        r*=q[string(c)]\n",
    "    end\n",
    "    return r\n",
    "end\n",
    "cs[findfirst( x->(x==0), oi.(cs[1:24]) .== cs[25:end])]"
   ]
  },
  {
   "cell_type": "code",
   "execution_count": null,
   "id": "80c9995e",
   "metadata": {},
   "outputs": [],
   "source": [
    "M = Matrix{Symbol}(undef, (order(C5), order(C5)))\n",
    "for (i, k1) in enumerate(elements(C5)), (j, k2) in enumerate(elements(C5))\n",
    "    M[i, j] = (X(k2)*X(k1)).sym\n",
    "end\n",
    "M"
   ]
  },
  {
   "cell_type": "code",
   "execution_count": null,
   "id": "3feeabd9",
   "metadata": {},
   "outputs": [],
   "source": [
    "cs[35]"
   ]
  },
  {
   "cell_type": "code",
   "execution_count": null,
   "id": "2eeec254",
   "metadata": {},
   "outputs": [],
   "source": [
    "classes(X)"
   ]
  },
  {
   "cell_type": "code",
   "execution_count": null,
   "id": "b5e215af",
   "metadata": {},
   "outputs": [],
   "source": [
    "X=CBaseGroup(5)\n",
    "s=join([\"$k => :$s\" for (k, s) in X.table], \",\\n\")\n",
    "println(s)"
   ]
  },
  {
   "cell_type": "code",
   "execution_count": null,
   "id": "4ea79f7d",
   "metadata": {},
   "outputs": [],
   "source": [
    "[k for k in elements(C6)]"
   ]
  },
  {
   "cell_type": "code",
   "execution_count": null,
   "id": "f9904422",
   "metadata": {},
   "outputs": [],
   "source": [
    "dict2str(D::LittleDict) = join(\"\\n\", [\"$(k) => $(s)\" for (k, s) in D])"
   ]
  },
  {
   "cell_type": "code",
   "execution_count": null,
   "id": "7edd3372",
   "metadata": {},
   "outputs": [],
   "source": [
    "r=join([\"$(k) => $(s)\" for (k, s) in Td.table], \", \\n\")"
   ]
  },
  {
   "cell_type": "code",
   "execution_count": null,
   "id": "410a9a4c",
   "metadata": {},
   "outputs": [],
   "source": [
    "println(r)"
   ]
  },
  {
   "cell_type": "code",
   "execution_count": null,
   "id": "c27ca5a4",
   "metadata": {},
   "outputs": [],
   "source": [
    "function multiplication_table(D::LittleDict)\n",
    "    function _find(D, rep) \n",
    "        for (key, value) in D\n",
    "            if value.rep == rep\n",
    "                return key\n",
    "            end\n",
    "        end\n",
    "        return nothing\n",
    "    end\n",
    "    n = length(D)\n",
    "    table = LittleDict{Tuple{Symbol, Symbol}, Symbol}()\n",
    "    kk = keys(D)\n",
    "    for k1 in kk\n",
    "        for k2 in kk\n",
    "            k = _find(D, D[k2].rep * D[k1].rep)\n",
    "            table[(k2, k1)] = k\n",
    "        end\n",
    "    end\n",
    "    return table\n",
    "end\n"
   ]
  },
  {
   "cell_type": "code",
   "execution_count": null,
   "id": "a141de99",
   "metadata": {},
   "outputs": [],
   "source": [
    "multiplication_table(C4.elements)"
   ]
  },
  {
   "cell_type": "code",
   "execution_count": null,
   "id": "8c5c8ddf",
   "metadata": {},
   "outputs": [],
   "source": [
    "find_in_group_by_representation(C6, C6(:C61).rep * C6(:C62).rep).sym"
   ]
  },
  {
   "cell_type": "code",
   "execution_count": null,
   "id": "a06eceec",
   "metadata": {},
   "outputs": [],
   "source": [
    "C4(:C4_2).rep *C4(:C4_1).rep "
   ]
  },
  {
   "cell_type": "code",
   "execution_count": null,
   "id": "1fc2b0ce",
   "metadata": {},
   "outputs": [],
   "source": [
    "C4(:C4_1).rep "
   ]
  },
  {
   "cell_type": "code",
   "execution_count": null,
   "id": "ec5b7840",
   "metadata": {},
   "outputs": [],
   "source": [
    "x=[:E, :C2x, :C2y, :C2z, :C3a, :C3a2, :C3b, :C3b2, :C3c, :C3c2, :C3d, :C3d2]\n",
    "t=[String(s) for s in x]\n",
    "# join(t, \", \")\n"
   ]
  },
  {
   "cell_type": "code",
   "execution_count": null,
   "id": "b5da837d",
   "metadata": {},
   "outputs": [],
   "source": [
    "\n",
    "Symbol(\"C4_1\")\n"
   ]
  },
  {
   "cell_type": "code",
   "execution_count": null,
   "id": "d56e4bfd",
   "metadata": {},
   "outputs": [],
   "source": [
    "divrem(7, 3)[2]"
   ]
  },
  {
   "cell_type": "code",
   "execution_count": null,
   "id": "0cf65e80",
   "metadata": {},
   "outputs": [],
   "source": [
    "q=3\n",
    "Symbol(\"as\")"
   ]
  },
  {
   "cell_type": "code",
   "execution_count": null,
   "id": "deb82df4",
   "metadata": {},
   "outputs": [],
   "source": [
    "Symbol(\"($q)\")"
   ]
  },
  {
   "cell_type": "code",
   "execution_count": null,
   "id": "1ac28933",
   "metadata": {},
   "outputs": [],
   "source": []
  },
  {
   "cell_type": "code",
   "execution_count": null,
   "id": "d91bcd76",
   "metadata": {},
   "outputs": [],
   "source": [
    "s=\"abcdefgh\"\n",
    "find(\"a\", s)"
   ]
  },
  {
   "cell_type": "code",
   "execution_count": null,
   "id": "8498e2c2",
   "metadata": {},
   "outputs": [],
   "source": [
    "findfirst('a', s)"
   ]
  },
  {
   "cell_type": "code",
   "execution_count": null,
   "id": "bc6ae655",
   "metadata": {},
   "outputs": [],
   "source": [
    "function multiplication_table(G::PointGroup)\n",
    "    n = length(G.elements)\n",
    "    table = Matrix{Symbol}(undef, n, n)\n",
    "    kk = keys(G.elements)\n",
    "    println(kk)\n",
    "    for (i, k1) in enumerate(kk) \n",
    "        for (j, k2) in enumerate(kk)\n",
    "            k = find_in_group_by_representation(G, G(k2).rep * G(k1).rep)\n",
    "            if k != nothing\n",
    "                table[i, j] = find_in_group_by_representation(G, G(k2).rep * G(k1).rep).sym\n",
    "            end\n",
    "\n",
    "        end\n",
    "    end\n",
    "    return table\n",
    "end"
   ]
  },
  {
   "cell_type": "code",
   "execution_count": null,
   "id": "4393fb18",
   "metadata": {},
   "outputs": [],
   "source": [
    "multiplication_table(D6h)"
   ]
  },
  {
   "cell_type": "code",
   "execution_count": null,
   "id": "daeb7b96",
   "metadata": {},
   "outputs": [],
   "source": [
    "find_in_group_by_representation(D3h, map(x->round(Int64, x), inv(D3h(:σ2σh).rep))).sym"
   ]
  },
  {
   "cell_type": "code",
   "execution_count": null,
   "id": "c289ce74",
   "metadata": {},
   "outputs": [],
   "source": [
    "q=sort([String(x) for (x, y) in D6h.elements])"
   ]
  },
  {
   "cell_type": "code",
   "execution_count": null,
   "id": "79d31c97",
   "metadata": {},
   "outputs": [],
   "source": [
    ":σ * :σc"
   ]
  },
  {
   "cell_type": "code",
   "execution_count": null,
   "id": "faaf2a34",
   "metadata": {},
   "outputs": [],
   "source": [
    "Int64('a')"
   ]
  },
  {
   "cell_type": "code",
   "execution_count": null,
   "id": "ce6fd423",
   "metadata": {},
   "outputs": [],
   "source": [
    "x=LittleDict()"
   ]
  },
  {
   "cell_type": "code",
   "execution_count": null,
   "id": "07d27a5b",
   "metadata": {},
   "outputs": [],
   "source": [
    "x[:a]=:b"
   ]
  },
  {
   "cell_type": "code",
   "execution_count": null,
   "id": "3e2cf635",
   "metadata": {},
   "outputs": [],
   "source": [
    "M = [ :E :C21 :σh :i ; \n",
    "    :C21 :E :i :σh ; \n",
    "    :σh :i :E :C21 ; \n",
    "    :i :σh :C21 :E]"
   ]
  },
  {
   "cell_type": "code",
   "execution_count": null,
   "id": "5a841847",
   "metadata": {},
   "outputs": [],
   "source": [
    "[:E;; ]"
   ]
  },
  {
   "cell_type": "code",
   "execution_count": null,
   "id": "c21aa5ae",
   "metadata": {},
   "outputs": [],
   "source": [
    "fill(-1, 10, 10)"
   ]
  },
  {
   "cell_type": "code",
   "execution_count": null,
   "id": "80d9c0fc",
   "metadata": {},
   "outputs": [],
   "source": [
    "function oi(s::String)\n",
    "    q = Dict( \"a\"=>\"c\", \"b\"=>\"d\", \"c\"=>\"a\", \"d\"=>\"b\", \"e\"=>\"f\", \"f\"=>\"e\")\n",
    "    r = \"\"\n",
    "    for c in s\n",
    "        r*=q[string(c)]\n",
    "    end\n",
    "    return r\n",
    "end"
   ]
  },
  {
   "cell_type": "code",
   "execution_count": null,
   "id": "66eb5ec4",
   "metadata": {},
   "outputs": [],
   "source": [
    "oi(\"faecdb\")"
   ]
  },
  {
   "cell_type": "code",
   "execution_count": null,
   "id": "fa6d6f89",
   "metadata": {},
   "outputs": [],
   "source": [
    "M = [ :C32cde :C31bce :C2be :C2de :Cz21i :Cx21i :C2bei :Cz43 :Cy21 :Cy21i :Cy41i :C31abe :C2bc :E :C31bcei :C32abe :C31cde :C32ade :Cz41i :Cz43i :C32bcei :C32abei :C2dei :Cy43i :C2cei :C2ab :Cy41 :Cx41i :Cz21 :C31abei :C2ce :C32cdei :i :C31cdei :C2ae :C32adei :Cx41 :C2bci :Cy43 :C2aei :C2abi :C31ade :Cx21 :Cx43i :C31adei :Cx43 :Cz41 :C32bce ;\n",
    "      :C32abe :C31ade :Cx41 :Cx43 :Cx21i :Cz21i :Cx41i :C2ab :E :i :Cy43i :C32bce :Cz41 :Cy21 :C31adei :C32cde :C32ade :C31cde :C2bci :C2abi :C31abei :C32cdei :Cx43i :Cy41i :C2aei :Cz43 :Cy43 :C2bei :Cx21 :C32bcei :C2ae :C32abei :Cy21i :C32adei :C2ce :C31cdei :C2be :Cz41i :Cy41 :C2cei :Cz43i :C31bce :Cz21 :C2dei :C31bcei :C2de :C2bc :C31abe ;\n",
    "      :C2ae :Cy43 :E :Cx21 :Cx41i :C2dei :i :C31abe :Cx43 :Cx43i :C32abei :Cz43 :C31cde :C2be :Cy43i :Cy41 :C2bc :C2ab :C32bcei :C31abei :Cz41i :Cy41i :Cx21i :C31bcei :C31adei :C32ade :C32abe :Cz21i :Cx41 :Cz43i :C31ade :C2aei :C2bei :C2bci :C32cde :C2abi :Cz21 :C31cdei :C31bce :C32cdei :C32adei :C2ce :C2de :Cy21i :C2cei :Cy21 :C32bce :Cz41 ;\n",
    "      :C2ce :Cy41 :Cy21 :Cz21 :C2bei :Cx43i :Cy21i :C32bce :C2de :C2dei :C32cdei :C2ab :C32ade :Cx41 :Cy41i :Cy43 :Cz41 :Cz43 :C31abei :C32bcei :C2bci :Cy43i :Cz21i :C31adei :C31bcei :C31cde :C32cde :Cx21i :C2be :C2abi :C31bce :C2cei :Cx41i :Cz41i :C32abe :Cz43i :Cx21 :C32adei :C31ade :C32abei :C31cdei :C2ae :Cx43 :i :C2aei :E :C31abe :C2bc ;\n",
    "      :Cx21i :Cy21i :Cy43i :C2cei :C32bce :C32ade :Cy43 :Cx41i :C31cdei :C31cde :C2ab :C32abei :C2dei :C31abei :Cy21 :i :C31bcei :C32cdei :C2be :Cx41 :C31ade :E :C2ce :Cz41 :C2bc :Cx43i :C2abi :C2ae :C32bcei :C32abe :C2bci :Cx21 :C31abe :C31bce :Cz43i :C32cde :C2aei :C2de :Cz41i :Cz43 :Cx43 :Cz21i :C32adei :Cy41 :Cz21 :Cy41i :C2bei :C31adei ;\n",
    "      :Cy21i :Cx21i :C2cei :Cy43i :C31cde :C31abe :C2ce :C2dei :C32bcei :C32bce :C2bc :C31bcei :Cx41i :C32adei :Cx21 :Cz21i :C32abei :C31adei :Cx43 :C2de :C32cde :Cz21 :Cy43 :Cz43 :C2ab :C2bei :C2bci :Cy41 :C31cdei :C31bce :C2abi :Cy21 :C32ade :C32abe :Cz41i :C31ade :Cy41i :Cx41 :Cz43i :Cz41 :C2be :i :C31abei :C2ae :E :C2aei :Cx43i :C32cdei ;\n",
    "      :C2aei :Cy43i :i :Cx21i :Cx41 :C2de :E :C31abei :Cx43i :Cx43 :C32abe :Cz43i :C31cdei :C2bei :Cy43 :Cy41i :C2bci :C2abi :C32bce :C31abe :Cz41 :Cy41 :Cx21 :C31bce :C31ade :C32adei :C32abei :Cz21 :Cx41i :Cz43 :C31adei :C2ae :C2be :C2bc :C32cdei :C2ab :Cz21i :C31cde :C31bcei :C32cde :C32ade :C2cei :C2dei :Cy21 :C2ce :Cy21i :C32bcei :Cz41i ;\n",
    "      :Cx41 :C2be :C32abe :C32cde :Cz43i :C2bci :C32abei :E :C2ab :C2abi :C31abei :C2ae :Cy21 :Cz41 :C2bei :Cx43 :C2ce :Cy41 :Cz21i :i :Cy43i :Cx43i :C32cdei :C31cdei :C32bcei :Cx21 :C31abe :C31adei :Cz43 :C2aei :C32bce :Cx41i :Cz41i :C2cei :C32ade :Cy41i :C31ade :Cy21i :C31cde :C32adei :Cx21i :C2de :C2bc :C31bcei :C2dei :C31bce :Cz21 :Cy43 ;\n",
    "      :Cz21 :E :Cy41 :C2ae :C31abei :C31cdei :Cy41i :C2be :C32ade :C32adei :Cz43i :C32cde :Cx43 :C32bce :i :Cy21 :C31ade :C32abe :Cx41i :C2bei :C31bcei :Cy21i :C2aei :C2bci :Cz41i :C2de :Cz43 :C2cei :C31abe :C32cdei :Cz41 :Cz21i :C32bcei :C31adei :C2ab :C32abei :C2ce :Cx43i :C2bc :C2abi :C2dei :Cx21 :C31cde :Cy43i :Cx21i :Cy43 :Cx41 :C31bce ;\n",
    "      :Cz21i :i :Cy41i :C2aei :C31abe :C31cde :Cy41 :C2bei :C32adei :C32ade :Cz43 :C32cdei :Cx43i :C32bcei :E :Cy21i :C31adei :C32abei :Cx41 :C2be :C31bce :Cy21 :C2ae :C2bc :Cz41 :C2dei :Cz43i :C2ce :C31abei :C32cde :Cz41i :Cz21 :C32bce :C31ade :C2abi :C32abe :C2cei :Cx43 :C2bci :C2ab :C2de :Cx21i :C31cdei :Cy43 :Cx21 :Cy43i :Cx41i :C31bcei ;\n",
    "      :Cz43i :Cz41i :C31abei :C32adei :C2ae :C2ce :C31abe :C32abei :Cy41i :Cy41 :E :Cx41i :C31bcei :Cy43i :Cz41 :C2abi :C2dei :Cx43i :C31ade :C32abe :C2be :C2ab :C32ade :Cy21 :Cz21 :C32cdei :i :C32bce :C2aei :Cx41 :Cz21i :Cz43 :Cy43 :C2de :Cx21i :Cx43 :C32bcei :C31bce :Cy21i :Cx21 :C32cde :C2bci :C2cei :C31cde :C2bc :C31cdei :C31adei :C2bei ;\n",
    "      :C32ade :C31cde :Cz41 :C2bc :C31adei :C32cdei :Cz41i :C2ae :C31bce :C31bcei :Cx43i :E :C2ce :C32abe :C31cdei :C31abe :Cy21 :Cx21 :Cy43i :C2aei :Cz21i :C31abei :C2bci :C2bei :C2dei :Cy41 :Cx43 :Cz43i :C31ade :i :C2de :C32adei :C32abei :Cy21i :Cx41 :Cx21i :Cz43 :C2cei :C2be :Cx41i :Cy41i :C32bce :C32cde :C2abi :C32bcei :C2ab :Cy43 :Cz21 ;\n",
    "      :C2be :Cx41 :C32cde :C32abe :C2abi :Cz41i :C32cdei :Cy21 :Cz43 :Cz43i :C32bcei :C2ce :E :C2bc :Cx41i :C2de :C2ae :Cy43 :Cx21i :Cy21i :Cy41i :C2dei :C32abei :C32adei :C31abei :Cz21 :C32bce :C31bcei :C2ab :C2cei :C31abe :C2bei :C2bci :C2aei :C31cde :Cy43i :C31bce :i :C32ade :C31cdei :Cz21i :Cx43 :Cz41 :C31adei :Cx43i :C31ade :Cx21 :Cy41 ;\n",
    "      :E :Cz21 :C2ae :Cy41 :C32adei :C32bcei :C2aei :Cx43 :C31abe :C31abei :Cz41i :C31ade :C2be :C31cde :Cz21i :Cx21 :C32cde :C31bce :C2dei :Cx43i :C32abei :Cx21i :Cy41i :C2abi :Cz43i :Cx41 :Cz41 :Cy43i :C32ade :C31adei :Cz43 :i :C31cdei :C32cdei :C2bc :C31bcei :Cy43 :C2bei :C2ab :C2bci :Cx41i :Cy21 :C32bce :C2cei :Cy21i :C2ce :C2de :C32abe ;\n",
    "      :C32abei :C31adei :Cx41i :Cx43i :Cx21 :Cz21 :Cx41 :C2abi :i :E :Cy43 :C32bcei :Cz41i :Cy21i :C31ade :C32cdei :C32adei :C31cdei :C2bc :C2ab :C31abe :C32cde :Cx43 :Cy41 :C2ae :Cz43i :Cy43i :C2be :Cx21i :C32bce :C2aei :C32abe :Cy21 :C32ade :C2cei :C31cde :C2bei :Cz41 :Cy41i :C2ce :Cz43 :C31bcei :Cz21i :C2de :C31bce :C2dei :C2bci :C31abei ;\n",
    "      :C31ade :C32abe :Cx43 :Cx41 :i :Cy21i :Cx43i :Cz41 :Cx21 :Cx21i :C2aei :C32ade :C2ab :Cz21 :C32abei :C31bce :C32bce :C31abe :Cz43i :Cz41i :C31cdei :C31bcei :Cx41i :C2cei :Cy43i :C2bc :C2ae :C2dei :E :C32adei :Cy43 :C31adei :Cz21i :C32bcei :Cy41 :C31abei :C2de :C2abi :C2ce :Cy41i :C2bci :C32cde :Cy21 :C2bei :C32cdei :C2be :Cz43 :C31cde ;\n",
    "      :C31cde :C32ade :C2bc :Cz41 :C31bcei :C32abei :C2bci :C2ce :C31ade :C31adei :C2dei :Cy21 :C2ae :C32cde :C32adei :C32bce :E :Cz21 :Cy41i :C2cei :Cx21i :C32bcei :Cz41i :Cx41i :Cx43i :Cy43 :C2de :C2abi :C31bce :Cy21i :Cx43 :C31cdei :C32cdei :i :C2be :Cz21i :C2ab :C2aei :Cx41 :C2bei :Cy43i :C31abe :C32abe :Cz43i :C31abei :Cz43 :Cy41 :Cx21 ;\n",
    "      :C32bce :C31abe :C2ab :Cz43 :C32abei :C31bcei :C2abi :Cy43 :C32cde :C32cdei :Cx41i :Cx21 :Cy41 :C31ade :C31abei :C31cde :Cz21 :E :C2aei :Cy43i :Cy21i :C31cdei :Cz43i :C2dei :C2bei :C2ce :Cx41 :C2bci :C32abe :Cx21i :C2be :C32bcei :C31adei :Cz21i :Cx43 :i :C2bc :Cy41i :C2de :Cx43i :C2cei :C32ade :C31bce :Cz41i :C32adei :Cz41 :C2ae :Cy21 ;\n",
    "      :Cx43i :C2dei :C31adei :C31bcei :C2bc :Cz43 :C31ade :Cx21i :Cz41i :Cz41 :C31cde :Cy43i :Cz21i :C2abi :C2de :Cx41i :Cy41i :C2cei :Cy21 :Cx21 :C2ae :Cx41 :C31bce :C31abe :C32ade :i :C31cdei :C32abe :C2bci :Cy43 :C32adei :Cx43 :C2ab :Cy41 :C32bcei :C2ce :C32abei :Cz21 :C31abei :C32bce :E :C2bei :Cz43i :C32cde :C2be :C32cdei :Cy21i :C2aei ;\n",
    "      :Cx41i :C2bei :C32abei :C32cdei :Cz43 :C2bc :C32abe :i :C2abi :C2ab :C31abe :C2aei :Cy21i :Cz41i :C2be :Cx43i :C2cei :Cy41i :Cz21 :E :Cy43 :Cx43 :C32cde :C31cde :C32bce :Cx21i :C31abei :C31ade :Cz43i :C2ae :C32bcei :Cx41 :Cz41 :C2ce :C32adei :Cy41 :C31adei :Cy21 :C31cdei :C32ade :Cx21 :C2dei :C2bci :C31bce :C2de :C31bcei :Cz21i :Cy43i ;\n",
    "      :C31abei :C32bcei :Cz43i :C2abi :C32cde :C31ade :Cz43 :Cy41i :C32abei :C32abe :C2be :Cz21i :Cy43i :C31bcei :C32bce :C32adei :Cx21i :Cy21i :C2ce :Cy41 :E :C32ade :C2ab :Cx43 :Cx41 :C2aei :C2bei :Cz41 :C32cdei :Cz21 :Cx41i :C31abe :C31bce :Cx21 :C2dei :Cy21 :Cz41i :Cy43 :Cx43i :C2de :C2ae :C31cdei :C31adei :C2bc :C31cde :C2bci :C2cei :i ;\n",
    "      :C31adei :C32abei :Cx43i :Cx41i :E :Cy21 :Cx43 :Cz41i :Cx21i :Cx21 :C2ae :C32adei :C2abi :Cz21i :C32abe :C31bcei :C32bcei :C31abei :Cz43 :Cz41 :C31cde :C31bce :Cx41 :C2ce :Cy43 :C2bci :C2aei :C2de :i :C32ade :Cy43i :C31ade :Cz21 :C32bce :Cy41i :C31abe :C2dei :C2ab :C2cei :Cy41 :C2bc :C32cdei :Cy21i :C2be :C32cde :C2bei :Cz43i :C31cdei ;\n",
    "      :C2cei :Cy41i :Cy21i :Cz21i :C2be :Cx43 :Cy21 :C32bcei :C2dei :C2de :C32cde :C2abi :C32adei :Cx41i :Cy41 :Cy43i :Cz41i :Cz43i :C31abe :C32bce :C2bc :Cy43 :Cz21 :C31ade :C31bce :C31cdei :C32cdei :Cx21 :C2bei :C2ab :C31bcei :C2ce :Cx41 :Cz41 :C32abei :Cz43 :Cx21i :C32ade :C31adei :C32abe :C31cde :C2aei :Cx43i :E :C2ae :i :C31abei :C2bci ;\n",
    "      :Cz41i :Cz43i :C32adei :C31abei :Cy41 :Cy43 :C32ade :C31bcei :C2aei :C2ae :Cz21 :C2dei :C32abei :C2cei :Cz43 :C2bci :Cx41i :C2bei :C32cde :C31bce :Cx43 :C2bc :C31abe :Cx21 :E :C31adei :Cz21i :C31cde :Cy41i :C2de :i :Cz41 :C2ce :Cx41 :Cy21i :C2be :C31cdei :C32abe :Cx21i :Cy21 :C31ade :C2abi :Cy43i :C32bce :C2ab :C32bcei :C32cdei :Cx43i ;\n",
    "      :C2abi :C2bci :C32bcei :C31cdei :C2ce :C2ae :C32bce :C32cdei :Cy43i :Cy43 :Cy21 :C2bei :C31adei :Cy41i :C2bc :Cz43i :Cx43i :C2dei :C31bce :C32cde :Cx41 :Cz43 :C31cde :E :Cx21 :C32abei :Cy21i :C31abe :C2cei :C2be :Cx21i :C2ab :Cy41 :Cx43 :Cz21i :C2de :C31abei :C31ade :i :Cz21 :C32abe :Cz41i :C2aei :C32ade :Cz41 :C32adei :C31bcei :Cx41i ;\n",
    "      :C2de :Cx43 :C31bce :C31ade :Cz41i :C2abi :C31bcei :Cz21 :C2bc :C2bci :C32adei :Cy41 :Cx21 :Cz43 :Cx43i :C2be :Cy43 :C2ae :i :Cz21i :C2cei :C2bei :C31adei :C32bcei :C31cdei :Cy21 :C32ade :C32cdei :Cz41 :Cy41i :C31cde :C2dei :Cz43i :Cy43i :C31abe :C2aei :C32cde :Cx21i :C32bce :C31abei :Cy21i :Cx41 :C2ab :C32abei :Cx41i :C32abe :E :C2ce ;\n",
    "      :Cz43 :Cz41 :C31abe :C32ade :C2aei :C2cei :C31abei :C32abe :Cy41 :Cy41i :i :Cx41 :C31bce :Cy43 :Cz41i :C2ab :C2de :Cx43 :C31adei :C32abei :C2bei :C2abi :C32adei :Cy21i :Cz21i :C32cde :E :C32bcei :C2ae :Cx41i :Cz21 :Cz43i :Cy43i :C2dei :Cx21 :Cx43i :C32bce :C31bcei :Cy21 :Cx21i :C32cdei :C2bc :C2ce :C31cdei :C2bci :C31cde :C31ade :C2be ;\n",
    "      :Cy41i :C2cei :Cz21i :Cy21i :C2de :Cx41 :Cz21 :C32adei :C2bei :C2be :C31bce :Cz41i :C32bcei :Cx43i :C2ce :C2aei :C2abi :C2bci :C31cde :C32ade :Cz43 :C2ae :Cy21 :C32abe :C32cde :C31abei :C31bcei :E :C2dei :Cz41 :C32cdei :Cy41 :Cx43 :C2ab :C31adei :C2bc :i :C32bce :C32abei :C31ade :C31abe :Cy43i :Cx41i :Cx21 :Cy43 :Cx21i :C31cdei :Cz43i ;\n",
    "      :Cx21 :Cy21 :Cy43 :C2ce :C32bcei :C32adei :Cy43i :Cx41 :C31cde :C31cdei :C2abi :C32abe :C2de :C31abe :Cy21i :E :C31bce :C32cde :C2bei :Cx41i :C31adei :i :C2cei :Cz41i :C2bci :Cx43 :C2ab :C2aei :C32bce :C32abei :C2bc :Cx21i :C31abei :C31bcei :Cz43 :C32cdei :C2ae :C2dei :Cz41 :Cz43i :Cx43i :Cz21 :C32ade :Cy41i :Cz21i :Cy41 :C2be :C31ade ;\n",
    "      :C32adei :C31cdei :Cz41i :C2bci :C31ade :C32cde :Cz41 :C2aei :C31bcei :C31bce :Cx43 :i :C2cei :C32abei :C31cde :C31abei :Cy21i :Cx21i :Cy43 :C2ae :Cz21 :C31abe :C2bc :C2be :C2de :Cy41i :Cx43i :Cz43 :C31adei :E :C2dei :C32ade :C32abe :Cy21 :Cx41i :Cx21 :Cz43i :C2ce :C2bei :Cx41 :Cy41 :C32bcei :C32cdei :C2ab :C32bce :C2abi :Cy43i :Cz21i ;\n",
    "      :C2ab :C2bc :C32bce :C31cde :C2cei :C2aei :C32bcei :C32cde :Cy43 :Cy43i :Cy21i :C2be :C31ade :Cy41 :C2bci :Cz43 :Cx43 :C2de :C31bcei :C32cdei :Cx41i :Cz43i :C31cdei :i :Cx21i :C32abe :Cy21 :C31abei :C2ce :C2bei :Cx21 :C2abi :Cy41i :Cx43i :Cz21 :C2dei :C31abe :C31adei :E :Cz21i :C32abei :Cz41 :C2ae :C32adei :Cz41i :C32ade :C31bce :Cx41 ;\n",
    "      :C32cdei :C31bcei :C2bei :C2dei :Cz21 :Cx21 :C2be :Cz43i :Cy21i :Cy21 :Cy41 :C31abei :C2bci :i :C31bce :C32abei :C31cdei :C32adei :Cz41 :Cz43 :C32bce :C32abe :C2de :Cy43 :C2ce :C2abi :Cy41i :Cx41 :Cz21i :C31abe :C2cei :C32cde :E :C31cde :C2aei :C32ade :Cx41i :C2bc :Cy43i :C2ae :C2ab :C31adei :Cx21i :Cx43 :C31ade :Cx43i :Cz41i :C32bcei ;\n",
    "      :i :Cz21i :C2aei :Cy41i :C32ade :C32bce :C2ae :Cx43i :C31abei :C31abe :Cz41 :C31adei :C2bei :C31cdei :Cz21 :Cx21i :C32cdei :C31bcei :C2de :Cx43 :C32abe :Cx21 :Cy41 :C2ab :Cz43 :Cx41i :Cz41i :Cy43 :C32adei :C31ade :Cz43i :E :C31cde :C32cde :C2bci :C31bce :Cy43i :C2be :C2abi :C2bc :Cx41 :Cy21i :C32bcei :C2ce :Cy21 :C2cei :C2dei :C32abei ;\n",
    "      :C31cdei :C32adei :C2bci :Cz41i :C31bce :C32abe :C2bc :C2cei :C31adei :C31ade :C2de :Cy21i :C2aei :C32cdei :C32ade :C32bcei :i :Cz21i :Cy41 :C2ce :Cx21 :C32bce :Cz41 :Cx41 :Cx43 :Cy43i :C2dei :C2ab :C31bcei :Cy21 :Cx43i :C31cde :C32cde :E :C2bei :Cz21 :C2abi :C2ae :Cx41i :C2be :Cy43 :C31abei :C32abei :Cz43 :C31abe :Cz43i :Cy41i :Cx21i ;\n",
    "      :C2bc :C2ab :C31cde :C32bce :Cy43i :Cy41i :C31cdei :C31ade :C2ce :C2cei :Cx21i :Cx43 :C32cde :C2ae :C2abi :Cz41 :C2be :Cx41 :C32abei :C31adei :C2dei :Cz41i :C32bcei :Cz21i :Cy21i :C31bce :Cx21 :C32adei :Cy43 :Cx43i :Cy21 :C2bci :C2aei :C2bei :E :Cx41i :C32ade :C32cdei :Cz21 :i :C31bcei :Cz43 :Cy41 :C31abei :Cz43i :C31abe :C32abe :C2de ;\n",
    "      :C32bcei :C31abei :C2abi :Cz43i :C32abe :C31bce :C2ab :Cy43i :C32cdei :C32cde :Cx41 :Cx21i :Cy41i :C31adei :C31abe :C31cdei :Cz21i :i :C2ae :Cy43 :Cy21 :C31cde :Cz43 :C2de :C2be :C2cei :Cx41i :C2bc :C32abei :Cx21 :C2bei :C32bce :C31ade :Cz21 :Cx43i :E :C2bci :Cy41 :C2dei :Cx43 :C2ce :C32adei :C31bcei :Cz41 :C32ade :Cz41i :C2aei :Cy21i ;\n",
    "      :Cy41 :C2ce :Cz21 :Cy21 :C2dei :Cx41i :Cz21i :C32ade :C2be :C2bei :C31bcei :Cz41 :C32bce :Cx43 :C2cei :C2ae :C2ab :C2bc :C31cdei :C32adei :Cz43i :C2aei :Cy21i :C32abei :C32cdei :C31abe :C31bce :i :C2de :Cz41i :C32cde :Cy41i :Cx43i :C2abi :C31ade :C2bci :E :C32bcei :C32abe :C31adei :C31abei :Cy43 :Cx41 :Cx21i :Cy43i :Cx21 :C31cde :Cz43 ;\n",
    "      :C2bei :Cx41i :C32cdei :C32abei :C2ab :Cz41 :C32cde :Cy21i :Cz43i :Cz43 :C32bce :C2cei :i :C2bci :Cx41 :C2dei :C2aei :Cy43i :Cx21 :Cy21 :Cy41 :C2de :C32abe :C32ade :C31abe :Cz21i :C32bcei :C31bce :C2abi :C2ce :C31abei :C2be :C2bc :C2ae :C31cdei :Cy43 :C31bcei :E :C32adei :C31cde :Cz21 :Cx43i :Cz41i :C31ade :Cx43 :C31adei :Cx21i :Cy41i ;\n",
    "      :Cz41 :Cz43 :C32ade :C31abe :Cy41i :Cy43i :C32adei :C31bce :C2ae :C2aei :Cz21i :C2de :C32abe :C2ce :Cz43i :C2bc :Cx41 :C2be :C32cdei :C31bcei :Cx43i :C2bci :C31abei :Cx21i :i :C31ade :Cz21 :C31cdei :Cy41 :C2dei :E :Cz41i :C2cei :Cx41i :Cy21 :C2bei :C31cde :C32abei :Cx21 :Cy21i :C31adei :C2ab :Cy43 :C32bcei :C2abi :C32bce :C32cde :Cx43 ;\n",
    "      :C2bci :C2abi :C31cdei :C32bcei :Cy43 :Cy41 :C31cde :C31adei :C2cei :C2ce :Cx21 :Cx43i :C32cdei :C2aei :C2ab :Cz41i :C2bei :Cx41i :C32abe :C31ade :C2de :Cz41 :C32bce :Cz21 :Cy21 :C31bcei :Cx21i :C32ade :Cy43i :Cx43 :Cy21i :C2bc :C2ae :C2be :i :Cx41 :C32adei :C32cde :Cz21i :E :C31bce :Cz43i :Cy41i :C31abe :Cz43 :C31abei :C32abei :C2dei ;\n",
    "      :C2dei :Cx43i :C31bcei :C31adei :Cz41 :C2ab :C31bce :Cz21i :C2bci :C2bc :C32ade :Cy41i :Cx21i :Cz43i :Cx43 :C2bei :Cy43i :C2aei :E :Cz21 :C2ce :C2be :C31ade :C32bce :C31cde :Cy21i :C32adei :C32cde :Cz41i :Cy41 :C31cdei :C2de :Cz43 :Cy43 :C31abei :C2ae :C32cdei :Cx21 :C32bcei :C31abe :Cy21 :Cx41i :C2abi :C32abe :Cx41 :C32abei :i :C2cei ;\n",
    "      :C31bce :C32cde :C2de :C2be :Cy21i :i :C2dei :C2bc :Cz21 :Cz21i :C2cei :C31cde :Cz43 :Cx21 :C32cdei :C31ade :C31abe :C32bce :C2abi :C2bci :C32adei :C31adei :C2bei :C2aei :Cy41i :Cz41 :C2ce :Cx43i :Cy21 :C31cdei :Cy41 :C31bcei :Cx21i :C31abei :Cy43 :C32bcei :Cx43 :Cz43i :C2ae :Cy43i :Cz41i :C32abe :E :Cx41i :C32abei :Cx41 :C2ab :C32ade ;\n",
    "      :Cy21 :Cx21 :C2ce :Cy43 :C31cdei :C31abei :C2cei :C2de :C32bce :C32bcei :C2bci :C31bce :Cx41 :C32ade :Cx21i :Cz21 :C32abe :C31ade :Cx43i :C2dei :C32cdei :Cz21i :Cy43i :Cz43i :C2abi :C2be :C2bc :Cy41i :C31cde :C31bcei :C2ab :Cy21i :C32adei :C32abei :Cz41 :C31adei :Cy41 :Cx41i :Cz43 :Cz41i :C2bei :E :C31abe :C2aei :i :C2ae :Cx43 :C32cde ;\n",
    "      :Cy43i :C2aei :Cx21i :i :Cx43 :C2be :Cx21 :C31cdei :Cx41i :Cx41 :C31ade :C2bci :C31abei :C2dei :C2ae :C2cei :Cz43i :Cz41i :C32ade :C31cde :C2ab :C2ce :E :C32cde :C32abe :C32bcei :C31adei :Cy21 :Cx43i :C2bc :C32abei :Cy43 :C2de :Cz43 :C31bcei :Cz41 :Cy21i :C31abe :C32cdei :C31bce :C32bce :Cy41i :C2bei :Cz21 :Cy41 :Cz21i :C32adei :C2abi ;\n",
    "      :C31bcei :C32cdei :C2dei :C2bei :Cy21 :E :C2de :C2bci :Cz21i :Cz21 :C2ce :C31cdei :Cz43i :Cx21i :C32cde :C31adei :C31abei :C32bcei :C2ab :C2bc :C32ade :C31ade :C2be :C2ae :Cy41 :Cz41i :C2cei :Cx43 :Cy21i :C31cde :Cy41i :C31bce :Cx21 :C31abe :Cy43i :C32bce :Cx43i :Cz43 :C2aei :Cy43 :Cz41 :C32abei :i :Cx41 :C32abe :Cx41i :C2abi :C32adei ;\n",
    "      :Cy43 :C2ae :Cx21 :E :Cx43i :C2bei :Cx21i :C31cde :Cx41 :Cx41i :C31adei :C2bc :C31abe :C2de :C2aei :C2ce :Cz43 :Cz41 :C32adei :C31cdei :C2abi :C2cei :i :C32cdei :C32abei :C32bce :C31ade :Cy21i :Cx43 :C2bci :C32abe :Cy43i :C2dei :Cz43i :C31bce :Cz41i :Cy21 :C31abei :C32cde :C31bcei :C32bcei :Cy41 :C2be :Cz21i :Cy41i :Cz21 :C32ade :C2ab ;\n",
    "      :Cx43 :C2de :C31ade :C31bce :C2bci :Cz43i :C31adei :Cx21 :Cz41 :Cz41i :C31cdei :Cy43 :Cz21 :C2ab :C2dei :Cx41 :Cy41 :C2ce :Cy21i :Cx21i :C2aei :Cx41i :C31bcei :C31abei :C32adei :E :C31cde :C32abei :C2bc :Cy43i :C32ade :Cx43i :C2abi :Cy41i :C32bce :C2cei :C32abe :Cz21i :C31abe :C32bcei :i :C2be :Cz43 :C32cdei :C2bei :C32cde :Cy21 :C2ae ;\n",
    "      :C31abe :C32bce :Cz43 :C2ab :C32cdei :C31adei :Cz43i :Cy41 :C32abe :C32abei :C2bei :Cz21 :Cy43 :C31bce :C32bcei :C32ade :Cx21 :Cy21 :C2cei :Cy41i :i :C32adei :C2abi :Cx43i :Cx41i :C2ae :C2be :Cz41i :C32cde :Cz21i :Cx41 :C31abei :C31bcei :Cx21i :C2de :Cy21i :Cz41 :Cy43i :Cx43 :C2dei :C2aei :C31cde :C31ade :C2bci :C31cdei :C2bc :C2ce :E]"
   ]
  },
  {
   "cell_type": "code",
   "execution_count": null,
   "id": "9681de9f",
   "metadata": {},
   "outputs": [],
   "source": []
  }
 ],
 "metadata": {
  "kernelspec": {
   "display_name": "Julia 1.11.5",
   "language": "julia",
   "name": "julia-1.11"
  },
  "language_info": {
   "file_extension": ".jl",
   "mimetype": "application/julia",
   "name": "julia",
   "version": "1.11.5"
  }
 },
 "nbformat": 4,
 "nbformat_minor": 5
}
